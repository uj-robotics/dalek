{
 "metadata": {
  "name": "",
  "signature": "sha256:dfaf91f391e7faf99f09654be874762837ddecb6bc9ed4587113ed230d9e0167"
 },
 "nbformat": 3,
 "nbformat_minor": 0,
 "worksheets": [
  {
   "cells": [
    {
     "cell_type": "heading",
     "level": 1,
     "metadata": {},
     "source": [
      "Praktyczny Machine Learning w Pythonie"
     ]
    },
    {
     "cell_type": "markdown",
     "metadata": {},
     "source": [
      "<img height=100 src=\"figures/python-xcd.png\">"
     ]
    },
    {
     "cell_type": "markdown",
     "metadata": {},
     "source": [
      "### Czy wszystko jest poprawnie zainstalowane?\n",
      "\n",
      "Kod mo\u017cna uruchomi\u0107 zaznaczaj\u0105c kom\u00f3rk\u0119 (skr\u00f3t ctrl+enter). Prosz\u0119 odpali\u0107 wszystkie kom\u00f3rki w tym notebooku."
     ]
    },
    {
     "cell_type": "code",
     "collapsed": false,
     "input": [
      "import matplotlib.pylab as plt # pakiet do rysowania\n",
      "import numpy as np # pakiet do manipulacji macierzami\n",
      "import sklearn # scikit-learn, kt\u00f3ry b\u0119dzie podstawowym tematem dzisiejszych warsztat\u00f3w"
     ],
     "language": "python",
     "metadata": {},
     "outputs": []
    },
    {
     "cell_type": "code",
     "collapsed": false,
     "input": [
      "print np.array([[0, 2, 4], [1, 3, 5]]) # macierz w pakiecie numpy"
     ],
     "language": "python",
     "metadata": {},
     "outputs": []
    },
    {
     "cell_type": "markdown",
     "metadata": {},
     "source": [
      "### Prosze \u015bci\u0105gn\u0105\u0107 zbiory danych przed warsztatami (inaczej organizatorzy b\u0119d\u0105 smutni)"
     ]
    },
    {
     "cell_type": "code",
     "collapsed": false,
     "input": [
      "from sklearn.datasets import fetch_lfw_people, fetch_mldata\n",
      "mnist = fetch_mldata(\"MNIST original\")\n",
      "lfw_people = fetch_lfw_people(min_faces_per_person=70, resize=0.4)"
     ],
     "language": "python",
     "metadata": {},
     "outputs": []
    },
    {
     "cell_type": "code",
     "collapsed": false,
     "input": [
      "#Powinno wy\u015bwietli\u0107 cyfr\u0119 0\n",
      "%matplotlib inline\n",
      "img = mnist.data[0]\n",
      "plt.imshow(img.reshape(28,28), cmap=\"gray_r\")"
     ],
     "language": "python",
     "metadata": {},
     "outputs": []
    },
    {
     "cell_type": "code",
     "collapsed": false,
     "input": [
      "n_samples, h, w = lfw_people.images.shape\n",
      "print(\"height: %d pixels\" % h) # height: 50 pixels\n",
      "print(\"width: %d pixels\" % w) # width: 37 pixels"
     ],
     "language": "python",
     "metadata": {},
     "outputs": []
    },
    {
     "cell_type": "code",
     "collapsed": false,
     "input": [
      "# Powinno wy\u015bwietli\u0107 twarz Tony Blair :)\n",
      "X = lfw_people.data\n",
      "y = lfw_people.target\n",
      "plt.imshow(X[1].reshape(h,w), cmap=plt.cm.gray)"
     ],
     "language": "python",
     "metadata": {},
     "outputs": []
    }
   ],
   "metadata": {}
  }
 ]
}
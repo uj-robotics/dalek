{
 "metadata": {
  "name": "",
  "signature": "sha256:986e94f8570537cc001696398aaffc0744930f29d204f43d1a5f37b51df48da6"
 },
 "nbformat": 3,
 "nbformat_minor": 0,
 "worksheets": [
  {
   "cells": [
    {
     "cell_type": "markdown",
     "metadata": {},
     "source": [
      "# Praktyczny Machine Learning w Pythonie\n",
      "<br>\n",
      "<img src=\"figures/dilbert-2213.gif\">\n",
      "\n",
      "## Rozpoznawanie cyfr\n",
      "\n",
      "Nasz model b\u0119dzie sk\u0142ada\u0142 si\u0119 z 2 krok\u00f3w:\n",
      "1. Zmniejszenie ilo\u015bci wymiar\u00f3w\n",
      "2. Klasyfikacja modelem liniowym\n",
      "\n",
      "Najpierw jednak musimy zapozna\u0107 si\u0119 ze zbiorem danych."
     ]
    },
    {
     "cell_type": "code",
     "collapsed": false,
     "input": [
      "from sklearn.datasets import fetch_mldata\n",
      "mnist = fetch_mldata('MNIST original')"
     ],
     "language": "python",
     "metadata": {},
     "outputs": [],
     "prompt_number": 1
    },
    {
     "cell_type": "markdown",
     "metadata": {},
     "source": [
      "### MNIST\n",
      "\n",
      "<img src=\"figures/mnist_originals.png\">\n",
      "\n",
      "MNIST to baza danych odr\u0119cznie napisanych cyfr oko\u0142o 20 lat temu. Ludzie s\u0105 w stanie rozpozna\u0107 ok. 99,5% cyfr z tego zbioru poprawnie.\n",
      "Zobaczymy ile nam si\u0119 uda!"
     ]
    },
    {
     "cell_type": "code",
     "collapsed": false,
     "input": [
      "img = mnist.data[0]\n",
      "print \"Pierwsz obrazek z \", mnist.data.shape[0], \":\", img # Pixele"
     ],
     "language": "python",
     "metadata": {},
     "outputs": [
      {
       "output_type": "stream",
       "stream": "stdout",
       "text": [
        "Pierwsz obrazek z  70000 : [  0   0   0   0   0   0   0   0   0   0   0   0   0   0   0   0   0   0\n",
        "   0   0   0   0   0   0   0   0   0   0   0   0   0   0   0   0   0   0\n",
        "   0   0   0   0   0   0   0   0   0   0   0   0   0   0   0   0   0   0\n",
        "   0   0   0   0   0   0   0   0   0   0   0   0   0   0   0   0   0   0\n",
        "   0   0   0   0   0   0   0   0   0   0   0   0   0   0   0   0   0   0\n",
        "   0   0   0   0   0   0   0   0   0   0   0   0   0   0   0   0   0   0\n",
        "   0   0   0   0   0   0   0   0   0   0   0   0   0   0   0   0   0   0\n",
        "   0  51 159 253 159  50   0   0   0   0   0   0   0   0   0   0   0   0\n",
        "   0   0   0   0   0   0   0   0   0   0  48 238 252 252 252 237   0   0\n",
        "   0   0   0   0   0   0   0   0   0   0   0   0   0   0   0   0   0   0\n",
        "   0  54 227 253 252 239 233 252  57   6   0   0   0   0   0   0   0   0\n",
        "   0   0   0   0   0   0   0   0   0  10  60 224 252 253 252 202  84 252\n",
        " 253 122   0   0   0   0   0   0   0   0   0   0   0   0   0   0   0   0\n",
        "   0 163 252 252 252 253 252 252  96 189 253 167   0   0   0   0   0   0\n",
        "   0   0   0   0   0   0   0   0   0   0  51 238 253 253 190 114 253 228\n",
        "  47  79 255 168   0   0   0   0   0   0   0   0   0   0   0   0   0   0\n",
        "   0  48 238 252 252 179  12  75 121  21   0   0 253 243  50   0   0   0\n",
        "   0   0   0   0   0   0   0   0   0   0  38 165 253 233 208  84   0   0\n",
        "   0   0   0   0 253 252 165   0   0   0   0   0   0   0   0   0   0   0\n",
        "   0   7 178 252 240  71  19  28   0   0   0   0   0   0 253 252 195   0\n",
        "   0   0   0   0   0   0   0   0   0   0   0  57 252 252  63   0   0   0\n",
        "   0   0   0   0   0   0 253 252 195   0   0   0   0   0   0   0   0   0\n",
        "   0   0   0 198 253 190   0   0   0   0   0   0   0   0   0   0 255 253\n",
        " 196   0   0   0   0   0   0   0   0   0   0   0  76 246 252 112   0   0\n",
        "   0   0   0   0   0   0   0   0 253 252 148   0   0   0   0   0   0   0\n",
        "   0   0   0   0  85 252 230  25   0   0   0   0   0   0   0   0   7 135\n",
        " 253 186  12   0   0   0   0   0   0   0   0   0   0   0  85 252 223   0\n",
        "   0   0   0   0   0   0   0   7 131 252 225  71   0   0   0   0   0   0\n",
        "   0   0   0   0   0   0  85 252 145   0   0   0   0   0   0   0  48 165\n",
        " 252 173   0   0   0   0   0   0   0   0   0   0   0   0   0   0  86 253\n",
        " 225   0   0   0   0   0   0 114 238 253 162   0   0   0   0   0   0   0\n",
        "   0   0   0   0   0   0   0   0  85 252 249 146  48  29  85 178 225 253\n",
        " 223 167  56   0   0   0   0   0   0   0   0   0   0   0   0   0   0   0\n",
        "  85 252 252 252 229 215 252 252 252 196 130   0   0   0   0   0   0   0\n",
        "   0   0   0   0   0   0   0   0   0   0  28 199 252 252 253 252 252 233\n",
        " 145   0   0   0   0   0   0   0   0   0   0   0   0   0   0   0   0   0\n",
        "   0   0   0  25 128 252 253 252 141  37   0   0   0   0   0   0   0   0\n",
        "   0   0   0   0   0   0   0   0   0   0   0   0   0   0   0   0   0   0\n",
        "   0   0   0   0   0   0   0   0   0   0   0   0   0   0   0   0   0   0\n",
        "   0   0   0   0   0   0   0   0   0   0   0   0   0   0   0   0   0   0\n",
        "   0   0   0   0   0   0   0   0   0   0   0   0   0   0   0   0   0   0\n",
        "   0   0   0   0   0   0   0   0   0   0   0   0   0   0   0   0   0   0\n",
        "   0   0   0   0   0   0   0   0   0   0   0   0   0   0   0   0   0   0\n",
        "   0   0   0   0   0   0   0   0   0   0]\n"
       ]
      }
     ],
     "prompt_number": 2
    },
    {
     "cell_type": "code",
     "collapsed": false,
     "input": [
      "# Mo\u017cemy sobie narysowa\u0107 wcze\u015bniej wypisan\u0105 cyfr\u0119\n",
      "import matplotlib.pylab as plt\n",
      "%matplotlib inline\n",
      "plt.imshow(img.reshape(28,28), cmap=\"gray\")"
     ],
     "language": "python",
     "metadata": {},
     "outputs": [
      {
       "metadata": {},
       "output_type": "pyout",
       "prompt_number": 3,
       "text": [
        "<matplotlib.image.AxesImage at 0x7fc56d866310>"
       ]
      },
      {
       "metadata": {},
       "output_type": "display_data",
       "png": "[encoded data removed]",
       "text": [
        "<matplotlib.figure.Figure at 0x7fc56dae2f90>"
       ]
      }
     ],
     "prompt_number": 3
    },
    {
     "cell_type": "code",
     "collapsed": false,
     "input": [
      "import sklearn\n",
      "from sklearn import linear_model, decomposition\n",
      "from sklearn.pipeline import Pipeline\n",
      "from sklearn.cross_validation import train_test_split\n",
      "from sklearn.linear_model import LogisticRegression\n",
      "from sklearn import preprocessing\n",
      "import numpy as np"
     ],
     "language": "python",
     "metadata": {},
     "outputs": [],
     "prompt_number": 36
    },
    {
     "cell_type": "markdown",
     "metadata": {},
     "source": [
      "### Krok 1: wczytanie i podzielenie danych"
     ]
    },
    {
     "cell_type": "code",
     "collapsed": false,
     "input": [
      "X, Y = preprocessing.scale(mnist.data.astype(\"float64\")), mnist.target #scale() to preprocessing kt\u00f3ry normalizuje dane ze sa symetrycznie wokol 0\n",
      "X_train, X_test, Y_train, Y_test = train_test_split(X,Y)"
     ],
     "language": "python",
     "metadata": {},
     "outputs": [],
     "prompt_number": 5
    },
    {
     "cell_type": "markdown",
     "metadata": {},
     "source": [
      "### Krok 2: dopasujmy pare modeli - uwaga! To juz trwa chwile, 70000 przykladow o 784 cechach kazdy."
     ]
    },
    {
     "cell_type": "code",
     "collapsed": false,
     "input": [
      "help(LogisticRegression)"
     ],
     "language": "python",
     "metadata": {},
     "outputs": [
      {
       "output_type": "stream",
       "stream": "stdout",
       "text": [
        "Help on class LogisticRegression in module sklearn.linear_model.logistic:\n",
        "\n",
        "class LogisticRegression(sklearn.svm.base.BaseLibLinear, sklearn.linear_model.base.LinearClassifierMixin, sklearn.feature_selection.from_model._LearntSelectorMixin, sklearn.linear_model.base.SparseCoefMixin)\n",
        " |  Logistic Regression (aka logit, MaxEnt) classifier.\n",
        " |  \n",
        " |  In the multiclass case, the training algorithm uses a one-vs.-all (OvA)\n",
        " |  scheme, rather than the \"true\" multinomial LR.\n",
        " |  \n",
        " |  This class implements L1 and L2 regularized logistic regression using the\n",
        " |  `liblinear` library. It can handle both dense and sparse input. Use\n",
        " |  C-ordered arrays or CSR matrices containing 64-bit floats for optimal\n",
        " |  performance; any other input format will be converted (and copied).\n",
        " |  \n",
        " |  Parameters\n",
        " |  ----------\n",
        " |  penalty : string, 'l1' or 'l2'\n",
        " |      Used to specify the norm used in the penalization.\n",
        " |  \n",
        " |  dual : boolean\n",
        " |      Dual or primal formulation. Dual formulation is only\n",
        " |      implemented for l2 penalty. Prefer dual=False when\n",
        " |      n_samples > n_features.\n",
        " |  \n",
        " |  C : float, optional (default=1.0)\n",
        " |      Inverse of regularization strength; must be a positive float.\n",
        " |      Like in support vector machines, smaller values specify stronger\n",
        " |      regularization.\n",
        " |  \n",
        " |  fit_intercept : bool, default: True\n",
        " |      Specifies if a constant (a.k.a. bias or intercept) should be\n",
        " |      added the decision function.\n",
        " |  \n",
        " |  intercept_scaling : float, default: 1\n",
        " |      when self.fit_intercept is True, instance vector x becomes\n",
        " |      [x, self.intercept_scaling],\n",
        " |      i.e. a \"synthetic\" feature with constant value equals to\n",
        " |      intercept_scaling is appended to the instance vector.\n",
        " |      The intercept becomes intercept_scaling * synthetic feature weight\n",
        " |      Note! the synthetic feature weight is subject to l1/l2 regularization\n",
        " |      as all other features.\n",
        " |      To lessen the effect of regularization on synthetic feature weight\n",
        " |      (and therefore on the intercept) intercept_scaling has to be increased\n",
        " |  \n",
        " |  class_weight : {dict, 'auto'}, optional\n",
        " |      Over-/undersamples the samples of each class according to the given\n",
        " |      weights. If not given, all classes are supposed to have weight one.\n",
        " |      The 'auto' mode selects weights inversely proportional to class\n",
        " |      frequencies in the training set.\n",
        " |  \n",
        " |  random_state: int seed, RandomState instance, or None (default)\n",
        " |      The seed of the pseudo random number generator to use when\n",
        " |      shuffling the data.\n",
        " |  \n",
        " |  tol: float, optional\n",
        " |      Tolerance for stopping criteria.\n",
        " |  \n",
        " |  Attributes\n",
        " |  ----------\n",
        " |  `coef_` : array, shape = [n_classes, n_features]\n",
        " |      Coefficient of the features in the decision function.\n",
        " |  \n",
        " |      `coef_` is readonly property derived from `raw_coef_` that         follows the internal memory layout of liblinear.\n",
        " |  \n",
        " |  `intercept_` : array, shape = [n_classes]\n",
        " |      Intercept (a.k.a. bias) added to the decision function.\n",
        " |      If `fit_intercept` is set to False, the intercept is set to zero.\n",
        " |  \n",
        " |  See also\n",
        " |  --------\n",
        " |  SGDClassifier: incrementally trained logistic regression (when given\n",
        " |      the parameter ``loss=\"log\"``).\n",
        " |  sklearn.svm.LinearSVC: learns SVM models using the same algorithm.\n",
        " |  \n",
        " |  Notes\n",
        " |  -----\n",
        " |  The underlying C implementation uses a random number generator to\n",
        " |  select features when fitting the model. It is thus not uncommon,\n",
        " |  to have slightly different results for the same input data. If\n",
        " |  that happens, try with a smaller tol parameter.\n",
        " |  \n",
        " |  References:\n",
        " |  \n",
        " |  LIBLINEAR -- A Library for Large Linear Classification\n",
        " |      http://www.csie.ntu.edu.tw/~cjlin/liblinear/\n",
        " |  \n",
        " |  Hsiang-Fu Yu, Fang-Lan Huang, Chih-Jen Lin (2011). Dual coordinate descent\n",
        " |      methods for logistic regression and maximum entropy models.\n",
        " |      Machine Learning 85(1-2):41-75.\n",
        " |      http://www.csie.ntu.edu.tw/~cjlin/papers/maxent_dual.pdf\n",
        " |  \n",
        " |  Method resolution order:\n",
        " |      LogisticRegression\n",
        " |      sklearn.svm.base.BaseLibLinear\n",
        " |      abc.NewBase\n",
        " |      sklearn.base.BaseEstimator\n",
        " |      sklearn.linear_model.base.LinearClassifierMixin\n",
        " |      sklearn.base.ClassifierMixin\n",
        " |      sklearn.feature_selection.from_model._LearntSelectorMixin\n",
        " |      sklearn.base.TransformerMixin\n",
        " |      sklearn.linear_model.base.SparseCoefMixin\n",
        " |      __builtin__.object\n",
        " |  \n",
        " |  Methods defined here:\n",
        " |  \n",
        " |  __init__(self, penalty='l2', dual=False, tol=0.0001, C=1.0, fit_intercept=True, intercept_scaling=1, class_weight=None, random_state=None)\n",
        " |  \n",
        " |  predict_log_proba(self, X)\n",
        " |      Log of probability estimates.\n",
        " |      \n",
        " |      The returned estimates for all classes are ordered by the\n",
        " |      label of classes.\n",
        " |      \n",
        " |      Parameters\n",
        " |      ----------\n",
        " |      X : array-like, shape = [n_samples, n_features]\n",
        " |      \n",
        " |      Returns\n",
        " |      -------\n",
        " |      T : array-like, shape = [n_samples, n_classes]\n",
        " |          Returns the log-probability of the sample for each class in the\n",
        " |          model, where classes are ordered as they are in ``self.classes_``.\n",
        " |  \n",
        " |  predict_proba(self, X)\n",
        " |      Probability estimates.\n",
        " |      \n",
        " |      The returned estimates for all classes are ordered by the\n",
        " |      label of classes.\n",
        " |      \n",
        " |      Parameters\n",
        " |      ----------\n",
        " |      X : array-like, shape = [n_samples, n_features]\n",
        " |      \n",
        " |      Returns\n",
        " |      -------\n",
        " |      T : array-like, shape = [n_samples, n_classes]\n",
        " |          Returns the probability of the sample for each class in the model,\n",
        " |          where classes are ordered as they are in ``self.classes_``.\n",
        " |  \n",
        " |  ----------------------------------------------------------------------\n",
        " |  Data and other attributes defined here:\n",
        " |  \n",
        " |  __abstractmethods__ = frozenset([])\n",
        " |  \n",
        " |  ----------------------------------------------------------------------\n",
        " |  Methods inherited from sklearn.svm.base.BaseLibLinear:\n",
        " |  \n",
        " |  fit(self, X, y)\n",
        " |      Fit the model according to the given training data.\n",
        " |      \n",
        " |      Parameters\n",
        " |      ----------\n",
        " |      X : {array-like, sparse matrix}, shape = [n_samples, n_features]\n",
        " |          Training vector, where n_samples in the number of samples and\n",
        " |          n_features is the number of features.\n",
        " |      \n",
        " |      y : array-like, shape = [n_samples]\n",
        " |          Target vector relative to X\n",
        " |      \n",
        " |      Returns\n",
        " |      -------\n",
        " |      self : object\n",
        " |          Returns self.\n",
        " |  \n",
        " |  ----------------------------------------------------------------------\n",
        " |  Data descriptors inherited from sklearn.svm.base.BaseLibLinear:\n",
        " |  \n",
        " |  classes_\n",
        " |  \n",
        " |  ----------------------------------------------------------------------\n",
        " |  Methods inherited from sklearn.base.BaseEstimator:\n",
        " |  \n",
        " |  __repr__(self)\n",
        " |  \n",
        " |  get_params(self, deep=True)\n",
        " |      Get parameters for this estimator.\n",
        " |      \n",
        " |      Parameters\n",
        " |      ----------\n",
        " |      deep: boolean, optional\n",
        " |          If True, will return the parameters for this estimator and\n",
        " |          contained subobjects that are estimators.\n",
        " |      \n",
        " |      Returns\n",
        " |      -------\n",
        " |      params : mapping of string to any\n",
        " |          Parameter names mapped to their values.\n",
        " |  \n",
        " |  set_params(self, **params)\n",
        " |      Set the parameters of this estimator.\n",
        " |      \n",
        " |      The method works on simple estimators as well as on nested objects\n",
        " |      (such as pipelines). The former have parameters of the form\n",
        " |      ``<component>__<parameter>`` so that it's possible to update each\n",
        " |      component of a nested object.\n",
        " |      \n",
        " |      Returns\n",
        " |      -------\n",
        " |      self\n",
        " |  \n",
        " |  ----------------------------------------------------------------------\n",
        " |  Data descriptors inherited from sklearn.base.BaseEstimator:\n",
        " |  \n",
        " |  __dict__\n",
        " |      dictionary for instance variables (if defined)\n",
        " |  \n",
        " |  __weakref__\n",
        " |      list of weak references to the object (if defined)\n",
        " |  \n",
        " |  ----------------------------------------------------------------------\n",
        " |  Methods inherited from sklearn.linear_model.base.LinearClassifierMixin:\n",
        " |  \n",
        " |  decision_function(self, X)\n",
        " |      Predict confidence scores for samples.\n",
        " |      \n",
        " |      The confidence score for a sample is the signed distance of that\n",
        " |      sample to the hyperplane.\n",
        " |      \n",
        " |      Parameters\n",
        " |      ----------\n",
        " |      X : {array-like, sparse matrix}, shape = (n_samples, n_features)\n",
        " |          Samples.\n",
        " |      \n",
        " |      Returns\n",
        " |      -------\n",
        " |      array, shape=(n_samples,) if n_classes == 2 else (n_samples, n_classes)\n",
        " |          Confidence scores per (sample, class) combination. In the binary\n",
        " |          case, confidence score for self.classes_[1] where >0 means this\n",
        " |          class would be predicted.\n",
        " |  \n",
        " |  predict(self, X)\n",
        " |      Predict class labels for samples in X.\n",
        " |      \n",
        " |      Parameters\n",
        " |      ----------\n",
        " |      X : {array-like, sparse matrix}, shape = [n_samples, n_features]\n",
        " |          Samples.\n",
        " |      \n",
        " |      Returns\n",
        " |      -------\n",
        " |      C : array, shape = [n_samples]\n",
        " |          Predicted class label per sample.\n",
        " |  \n",
        " |  ----------------------------------------------------------------------\n",
        " |  Methods inherited from sklearn.base.ClassifierMixin:\n",
        " |  \n",
        " |  score(self, X, y, sample_weight=None)\n",
        " |      Returns the mean accuracy on the given test data and labels.\n",
        " |      \n",
        " |      Parameters\n",
        " |      ----------\n",
        " |      X : array-like, shape = (n_samples, n_features)\n",
        " |          Test samples.\n",
        " |      \n",
        " |      y : array-like, shape = (n_samples,)\n",
        " |          True labels for X.\n",
        " |      \n",
        " |      sample_weight : array-like, shape = [n_samples], optional\n",
        " |          Sample weights.\n",
        " |      \n",
        " |      Returns\n",
        " |      -------\n",
        " |      score : float\n",
        " |          Mean accuracy of self.predict(X) wrt. y.\n",
        " |  \n",
        " |  ----------------------------------------------------------------------\n",
        " |  Methods inherited from sklearn.feature_selection.from_model._LearntSelectorMixin:\n",
        " |  \n",
        " |  transform(self, X, threshold=None)\n",
        " |      Reduce X to its most important features.\n",
        " |      \n",
        " |      Parameters\n",
        " |      ----------\n",
        " |      X : array or scipy sparse matrix of shape [n_samples, n_features]\n",
        " |          The input samples.\n",
        " |      \n",
        " |      threshold : string, float or None, optional (default=None)\n",
        " |          The threshold value to use for feature selection. Features whose\n",
        " |          importance is greater or equal are kept while the others are\n",
        " |          discarded. If \"median\" (resp. \"mean\"), then the threshold value is\n",
        " |          the median (resp. the mean) of the feature importances. A scaling\n",
        " |          factor (e.g., \"1.25*mean\") may also be used. If None and if\n",
        " |          available, the object attribute ``threshold`` is used. Otherwise,\n",
        " |          \"mean\" is used by default.\n",
        " |      \n",
        " |      Returns\n",
        " |      -------\n",
        " |      X_r : array of shape [n_samples, n_selected_features]\n",
        " |          The input samples with only the selected features.\n",
        " |  \n",
        " |  ----------------------------------------------------------------------\n",
        " |  Methods inherited from sklearn.base.TransformerMixin:\n",
        " |  \n",
        " |  fit_transform(self, X, y=None, **fit_params)\n",
        " |      Fit to data, then transform it.\n",
        " |      \n",
        " |      Fits transformer to X and y with optional parameters fit_params\n",
        " |      and returns a transformed version of X.\n",
        " |      \n",
        " |      Parameters\n",
        " |      ----------\n",
        " |      X : numpy array of shape [n_samples, n_features]\n",
        " |          Training set.\n",
        " |      \n",
        " |      y : numpy array of shape [n_samples]\n",
        " |          Target values.\n",
        " |      \n",
        " |      Returns\n",
        " |      -------\n",
        " |      X_new : numpy array of shape [n_samples, n_features_new]\n",
        " |          Transformed array.\n",
        " |  \n",
        " |  ----------------------------------------------------------------------\n",
        " |  Methods inherited from sklearn.linear_model.base.SparseCoefMixin:\n",
        " |  \n",
        " |  densify(self)\n",
        " |      Convert coefficient matrix to dense array format.\n",
        " |      \n",
        " |      Converts the ``coef_`` member (back) to a numpy.ndarray. This is the\n",
        " |      default format of ``coef_`` and is required for fitting, so calling\n",
        " |      this method is only required on models that have previously been\n",
        " |      sparsified; otherwise, it is a no-op.\n",
        " |      \n",
        " |      Returns\n",
        " |      -------\n",
        " |      self: estimator\n",
        " |  \n",
        " |  sparsify(self)\n",
        " |      Convert coefficient matrix to sparse format.\n",
        " |      \n",
        " |      Converts the ``coef_`` member to a scipy.sparse matrix, which for\n",
        " |      L1-regularized models can be much more memory- and storage-efficient\n",
        " |      than the usual numpy.ndarray representation.\n",
        " |      \n",
        " |      The ``intercept_`` member is not converted.\n",
        " |      \n",
        " |      Notes\n",
        " |      -----\n",
        " |      For non-sparse models, i.e. when there are not many zeros in ``coef_``,\n",
        " |      this may actually *increase* memory usage, so use this method with\n",
        " |      care. A rule of thumb is that the number of zero elements, which can\n",
        " |      be computed with ``(coef_ == 0).sum()``, must be more than 50% for this\n",
        " |      to provide significant benefits.\n",
        " |      \n",
        " |      After calling this method, further fitting with the partial_fit\n",
        " |      method (if any) will not work until you call densify.\n",
        " |      \n",
        " |      Returns\n",
        " |      -------\n",
        " |      self: estimator\n",
        "\n"
       ]
      }
     ],
     "prompt_number": 21
    },
    {
     "cell_type": "code",
     "collapsed": false,
     "input": [
      "# Na wszystkich przykladach osiaga 92% dokladnosci. \n",
      "N = 500\n",
      "model = LogisticRegression() \n",
      "model.fit(X_train[0:N], Y_train[0:N])\n",
      "#model.fit(X_train, Y_train)\n",
      "Y_test_predicted = model.predict(X_test)\n",
      "print \"Dok\u0142adno\u015b\u0107 modelu wytrenowanego na \",N, \" przykladach to: \",100*sklearn.metrics.accuracy_score(Y_test, Y_test_predicted), \"%\""
     ],
     "language": "python",
     "metadata": {},
     "outputs": [
      {
       "output_type": "stream",
       "stream": "stdout",
       "text": [
        "Dok\u0142adno\u015b\u0107 modelu wytrenowanego na  500  przykladach to:  78.1714285714 %\n"
       ]
      }
     ],
     "prompt_number": 53
    },
    {
     "cell_type": "code",
     "collapsed": false,
     "input": [
      "print \"Przyklad zaklasyfikowany jako \", model.predict(X_test[0])\n",
      "plt.imshow(X_test[0].reshape(28,28), cmap=\"gray\")"
     ],
     "language": "python",
     "metadata": {},
     "outputs": [
      {
       "output_type": "stream",
       "stream": "stdout",
       "text": [
        "Przyklad zaklasyfikowany jako  [ 3.]\n"
       ]
      },
      {
       "metadata": {},
       "output_type": "pyout",
       "prompt_number": 19,
       "text": [
        "<matplotlib.image.AxesImage at 0x7fc533778e10>"
       ]
      },
      {
       "metadata": {},
       "output_type": "display_data",
       "png": "[encoded data removed]",
       "text": [
        "<matplotlib.figure.Figure at 0x7fc533814150>"
       ]
      }
     ],
     "prompt_number": 19
    },
    {
     "cell_type": "markdown",
     "metadata": {},
     "source": [
      "### Krok 3: Tworzymy caly model zmniejszaj\u0105c ilo\u015b\u0107 przyk\u0142ad\u00f3w\n",
      "\n",
      "W scikit-learn mo\u017cemy po\u0142\u0105czy\u0107 pare modeli w **pipeline**, kt\u00f3ry sam implementuje interfejs **Estimator**.\n",
      "\n",
      "Podpowiedzi:\n",
      "\n",
      "1. Jest to stosunkowo ma\u0142y zbi\u00f3r - prosty model nie b\u0119dzie potrzebowa\u0142 PCA\n",
      "2. Znale\u017a\u0107 najlepsze hiperparametry (tylko 1 w LogisticRegression)\n",
      "3. Spr\u00f3bowa\u0107 innego modelu (traktuj\u0105c go jako czarne pude\u0142ko z funkcja fit i predict :) ).\n",
      "    * np. SVC z kernel=\"rbf\" (ma 2 hiperparametry C, gamma)\n",
      "4. Je\u015bli dobieramy 2 hiperparametry warto u\u017cyc GridSearch (samo szuka najlepszy zestaw parametr\u00f3w) np. http://scikit-learn.org/stable/modules/generated/sklearn.grid_search.GridSearchCV.html#sklearn.grid_search.GridSearchCV \n",
      "5. Je\u015bli u\u017cywamy bardziej skomplikowanego modelu (np. wspomnianego SVC) to nale\u017cy u\u017cy\u0107 PCA (lub innej techniki redukcji wymiar\u00f3w)"
     ]
    },
    {
     "cell_type": "code",
     "collapsed": false,
     "input": [
      "\n",
      "pca = decomposition.PCA(n_components=20)\n",
      "pca.fit(X_train, Y_train)\n",
      "X_train_transf = pca.transform(X_train)"
     ],
     "language": "python",
     "metadata": {},
     "outputs": [],
     "prompt_number": 86
    },
    {
     "cell_type": "code",
     "collapsed": true,
     "input": [
      "logistic = linear_model.LogisticRegression(C=0.1)\n",
      "logistic.fit(X_train_transf, Y_train)"
     ],
     "language": "python",
     "metadata": {},
     "outputs": [
      {
       "metadata": {},
       "output_type": "pyout",
       "prompt_number": 88,
       "text": [
        "LogisticRegression(C=0.1, class_weight=None, dual=False, fit_intercept=True,\n",
        "          intercept_scaling=1, penalty='l2', random_state=None, tol=0.0001)"
       ]
      }
     ],
     "prompt_number": 88
    },
    {
     "cell_type": "code",
     "collapsed": false,
     "input": [
      "pipe = Pipeline(steps=[('pca', pca), ('logistic', logistic)])\n",
      "Y_test_predicted = pipe.predict(X_test)\n",
      "print \"Dok\u0142adno\u015b\u0107 modelu wytrenowanego to: \",100*sklearn.metrics.accuracy_score(Y_test, Y_test_predicted), \"%\""
     ],
     "language": "python",
     "metadata": {},
     "outputs": [
      {
       "output_type": "stream",
       "stream": "stdout",
       "text": [
        "Dok\u0142adno\u015b\u0107 modelu wytrenowanego to:  84.6514285714 %\n"
       ]
      }
     ],
     "prompt_number": 82
    },
    {
     "cell_type": "markdown",
     "metadata": {},
     "source": [
      "# Konkurs\n",
      "\n",
      "Wczyta\u0107 i analogicznie jak poprzednio zbudowa\u0107 najlepszy model do zbioru danych faces z scikit-learn\n",
      "\n",
      "<img src=\"figures/faces.png\">"
     ]
    },
    {
     "cell_type": "code",
     "collapsed": false,
     "input": [
      "X[0].shape"
     ],
     "language": "python",
     "metadata": {},
     "outputs": [
      {
       "metadata": {},
       "output_type": "pyout",
       "prompt_number": 96,
       "text": [
        "(784,)"
       ]
      }
     ],
     "prompt_number": 96
    },
    {
     "cell_type": "code",
     "collapsed": false,
     "input": [
      "50*37"
     ],
     "language": "python",
     "metadata": {},
     "outputs": [
      {
       "metadata": {},
       "output_type": "pyout",
       "prompt_number": 97,
       "text": [
        "1850"
       ]
      }
     ],
     "prompt_number": 97
    },
    {
     "cell_type": "code",
     "collapsed": false,
     "input": [
      "n_samples, h, w"
     ],
     "language": "python",
     "metadata": {},
     "outputs": [
      {
       "metadata": {},
       "output_type": "pyout",
       "prompt_number": 95,
       "text": [
        "(1288, 50, 37)"
       ]
      }
     ],
     "prompt_number": 95
    },
    {
     "cell_type": "code",
     "collapsed": false,
     "input": [
      "from sklearn.datasets import fetch_lfw_people\n",
      "\n",
      "# Wczytanie danych i rozmiarow\n",
      "lfw_people = fetch_lfw_people(min_faces_per_person=70, resize=0.4)\n",
      "n_samples, h, w = lfw_people.images.shape\n",
      "\n",
      "# Podzial na zbior trenujacy i testujacy\n",
      "X = lfw_people.data\n",
      "Y = lfw_people.target\n",
      "X = preprocessing.scale(X.astype(\"float64\")) #scale() to preprocessing kt\u00f3ry normalizuje dane ze sa symetrycznie wokol 0\n",
      "X_train, X_test, Y_train, Y_test = train_test_split(X,Y)\n",
      "\n",
      "\n",
      "plt.imshow(X_train[2].reshape(h,w), cmap=plt.cm.gray)"
     ],
     "language": "python",
     "metadata": {},
     "outputs": [
      {
       "metadata": {},
       "output_type": "pyout",
       "prompt_number": 99,
       "text": [
        "<matplotlib.image.AxesImage at 0x7fc567fe14d0>"
       ]
      },
      {
       "metadata": {},
       "output_type": "display_data",
       "png": "[encoded data removed]",
       "text": [
        "<matplotlib.figure.Figure at 0x7fc5337fac10>"
       ]
      }
     ],
     "prompt_number": 99
    },
    {
     "cell_type": "code",
     "collapsed": false,
     "input": [
      "logistic = linear_model.LogisticRegression(C=1)\n",
      "logistic.fit(X_train, Y_train)"
     ],
     "language": "python",
     "metadata": {},
     "outputs": [
      {
       "metadata": {},
       "output_type": "pyout",
       "prompt_number": 124,
       "text": [
        "LogisticRegression(C=1, class_weight=None, dual=False, fit_intercept=True,\n",
        "          intercept_scaling=1, penalty='l2', random_state=None, tol=0.0001)"
       ]
      }
     ],
     "prompt_number": 124
    },
    {
     "cell_type": "code",
     "collapsed": false,
     "input": [
      "pipe = Pipeline(steps=[('pca', pca), ('logistic', logistic)])\n",
      "Y_test_predicted = logistic.predict(X_test)\n",
      "print \"Dok\u0142adno\u015b\u0107 modelu wytrenowanego to: \",100*sklearn.metrics.accuracy_score(Y_test, Y_test_predicted), \"%\""
     ],
     "language": "python",
     "metadata": {},
     "outputs": [
      {
       "output_type": "stream",
       "stream": "stdout",
       "text": [
        "Dok\u0142adno\u015b\u0107 modelu wytrenowanego to:  81.9875776398 %\n"
       ]
      }
     ],
     "prompt_number": 125
    }
   ],
   "metadata": {}
  }
 ]
}
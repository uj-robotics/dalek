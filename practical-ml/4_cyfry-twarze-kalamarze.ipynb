{
 "metadata": {
  "name": "",
  "signature": "sha256:0aafa11583d418c23263ec912ef656146602e70c3fe5e087d43596782fd903ef"
 },
 "nbformat": 3,
 "nbformat_minor": 0,
 "worksheets": [
  {
   "cells": [
    {
     "cell_type": "markdown",
     "metadata": {},
     "source": [
      "# Praktyczny Machine Learning w Pythonie\n",
      "<br>\n",
      "<img src=\"figures/dilbert-2213.gif\">\n",
      "\n",
      "## Rozpoznawanie cyfr\n",
      "\n",
      "Nasz model b\u0119dzie sk\u0142ada\u0142 si\u0119 z 2 krok\u00f3w:\n",
      "1. Zmniejszenie ilo\u015bci wymiar\u00f3w\n",
      "2. Klasyfikacja modelem liniowym\n",
      "\n",
      "Najpierw jednak musimy zapozna\u0107 si\u0119 ze zbiorem danych."
     ]
    },
    {
     "cell_type": "code",
     "collapsed": false,
     "input": [
      "from sklearn.datasets import fetch_mldata\n",
      "mnist = fetch_mldata('MNIST original')"
     ],
     "language": "python",
     "metadata": {},
     "outputs": [],
     "prompt_number": 1
    },
    {
     "cell_type": "markdown",
     "metadata": {},
     "source": [
      "### MNIST\n",
      "\n",
      "<img src=\"figures/mnist_originals.png\">\n",
      "\n",
      "MNIST to baza danych odr\u0119cznie napisanych cyfr oko\u0142o 20 lat temu. Ludzie s\u0105 w stanie rozpozna\u0107 ok. 99,5% cyfr z tego zbioru poprawnie.\n",
      "Zobaczymy ile nam si\u0119 uda!"
     ]
    },
    {
     "cell_type": "code",
     "collapsed": false,
     "input": [
      "img = mnist.data[0]\n",
      "print \"Pierwsz obrazek z \", mnist.data.shape[0], \":\", img # Pixele"
     ],
     "language": "python",
     "metadata": {},
     "outputs": [
      {
       "output_type": "stream",
       "stream": "stdout",
       "text": [
        "Pierwsz obrazek z  70000 : [  0   0   0   0   0   0   0   0   0   0   0   0   0   0   0   0   0   0\n",
        "   0   0   0   0   0   0   0   0   0   0   0   0   0   0   0   0   0   0\n",
        "   0   0   0   0   0   0   0   0   0   0   0   0   0   0   0   0   0   0\n",
        "   0   0   0   0   0   0   0   0   0   0   0   0   0   0   0   0   0   0\n",
        "   0   0   0   0   0   0   0   0   0   0   0   0   0   0   0   0   0   0\n",
        "   0   0   0   0   0   0   0   0   0   0   0   0   0   0   0   0   0   0\n",
        "   0   0   0   0   0   0   0   0   0   0   0   0   0   0   0   0   0   0\n",
        "   0  51 159 253 159  50   0   0   0   0   0   0   0   0   0   0   0   0\n",
        "   0   0   0   0   0   0   0   0   0   0  48 238 252 252 252 237   0   0\n",
        "   0   0   0   0   0   0   0   0   0   0   0   0   0   0   0   0   0   0\n",
        "   0  54 227 253 252 239 233 252  57   6   0   0   0   0   0   0   0   0\n",
        "   0   0   0   0   0   0   0   0   0  10  60 224 252 253 252 202  84 252\n",
        " 253 122   0   0   0   0   0   0   0   0   0   0   0   0   0   0   0   0\n",
        "   0 163 252 252 252 253 252 252  96 189 253 167   0   0   0   0   0   0\n",
        "   0   0   0   0   0   0   0   0   0   0  51 238 253 253 190 114 253 228\n",
        "  47  79 255 168   0   0   0   0   0   0   0   0   0   0   0   0   0   0\n",
        "   0  48 238 252 252 179  12  75 121  21   0   0 253 243  50   0   0   0\n",
        "   0   0   0   0   0   0   0   0   0   0  38 165 253 233 208  84   0   0\n",
        "   0   0   0   0 253 252 165   0   0   0   0   0   0   0   0   0   0   0\n",
        "   0   7 178 252 240  71  19  28   0   0   0   0   0   0 253 252 195   0\n",
        "   0   0   0   0   0   0   0   0   0   0   0  57 252 252  63   0   0   0\n",
        "   0   0   0   0   0   0 253 252 195   0   0   0   0   0   0   0   0   0\n",
        "   0   0   0 198 253 190   0   0   0   0   0   0   0   0   0   0 255 253\n",
        " 196   0   0   0   0   0   0   0   0   0   0   0  76 246 252 112   0   0\n",
        "   0   0   0   0   0   0   0   0 253 252 148   0   0   0   0   0   0   0\n",
        "   0   0   0   0  85 252 230  25   0   0   0   0   0   0   0   0   7 135\n",
        " 253 186  12   0   0   0   0   0   0   0   0   0   0   0  85 252 223   0\n",
        "   0   0   0   0   0   0   0   7 131 252 225  71   0   0   0   0   0   0\n",
        "   0   0   0   0   0   0  85 252 145   0   0   0   0   0   0   0  48 165\n",
        " 252 173   0   0   0   0   0   0   0   0   0   0   0   0   0   0  86 253\n",
        " 225   0   0   0   0   0   0 114 238 253 162   0   0   0   0   0   0   0\n",
        "   0   0   0   0   0   0   0   0  85 252 249 146  48  29  85 178 225 253\n",
        " 223 167  56   0   0   0   0   0   0   0   0   0   0   0   0   0   0   0\n",
        "  85 252 252 252 229 215 252 252 252 196 130   0   0   0   0   0   0   0\n",
        "   0   0   0   0   0   0   0   0   0   0  28 199 252 252 253 252 252 233\n",
        " 145   0   0   0   0   0   0   0   0   0   0   0   0   0   0   0   0   0\n",
        "   0   0   0  25 128 252 253 252 141  37   0   0   0   0   0   0   0   0\n",
        "   0   0   0   0   0   0   0   0   0   0   0   0   0   0   0   0   0   0\n",
        "   0   0   0   0   0   0   0   0   0   0   0   0   0   0   0   0   0   0\n",
        "   0   0   0   0   0   0   0   0   0   0   0   0   0   0   0   0   0   0\n",
        "   0   0   0   0   0   0   0   0   0   0   0   0   0   0   0   0   0   0\n",
        "   0   0   0   0   0   0   0   0   0   0   0   0   0   0   0   0   0   0\n",
        "   0   0   0   0   0   0   0   0   0   0   0   0   0   0   0   0   0   0\n",
        "   0   0   0   0   0   0   0   0   0   0]\n"
       ]
      }
     ],
     "prompt_number": 2
    },
    {
     "cell_type": "code",
     "collapsed": false,
     "input": [
      "# Mo\u017cemy sobie narysowa\u0107 wcze\u015bniej wypisan\u0105 cyfr\u0119\n",
      "import matplotlib.pylab as plt\n",
      "%matplotlib inline\n",
      "plt.imshow(img.reshape(28,28), cmap=\"gray\")"
     ],
     "language": "python",
     "metadata": {},
     "outputs": [
      {
       "metadata": {},
       "output_type": "pyout",
       "prompt_number": 3,
       "text": [
        "<matplotlib.image.AxesImage at 0x7ff3b8ab9210>"
       ]
      },
      {
       "metadata": {},
       "output_type": "display_data",
       "png": "[encoded data removed]",
       "text": [
        "<matplotlib.figure.Figure at 0x7ff3b88a7410>"
       ]
      }
     ],
     "prompt_number": 3
    },
    {
     "cell_type": "code",
     "collapsed": false,
     "input": [
      "import sklearn\n",
      "from sklearn import linear_model, decomposition\n",
      "from sklearn.pipeline import Pipeline\n",
      "from sklearn.cross_validation import train_test_split\n",
      "from sklearn.linear_model import LogisticRegression\n",
      "from sklearn import preprocessing\n",
      "import numpy as np"
     ],
     "language": "python",
     "metadata": {},
     "outputs": [],
     "prompt_number": 4
    },
    {
     "cell_type": "markdown",
     "metadata": {},
     "source": [
      "### Krok 1: wczytanie i podzielenie danych\n",
      "\n",
      "Skalowanie jest bardzo wa\u017cne. Dzi\u0119ki temu mamy \u015bredni\u0105 danej cechy 0 i wariancj\u0119 1.\n",
      "\n",
      "<img src=\"figures/prepro2.jpeg\" width=600>"
     ]
    },
    {
     "cell_type": "code",
     "collapsed": false,
     "input": [
      "#Wczytujemy dane i skalujemy\n",
      "X, Y = mnist.data.astype(\"float64\"), mnist.target \n",
      "X = preprocessing.scale(X)"
     ],
     "language": "python",
     "metadata": {},
     "outputs": [],
     "prompt_number": 5
    },
    {
     "cell_type": "markdown",
     "metadata": {},
     "source": [
      "Tak jak wspomnia\u0142em algorytm trenujemy na innych danych ni\u017c testujemy. **To bardzo wa\u017cne**. Do ka\u017cdych danych da si\u0119 dopasowa\u0107 taki model, kt\u00f3ry idealnie na nich odpowiada (np. poprzez zapami\u0119tanie wszystkich przyk\u0142ad\u00f3w). Je\u015bli tak zrobimy, to m\u00f3wimy \u017ce nasz model **zoverfitowa\u0142**.\n",
      "\n",
      "<img src=\"figures/underfitting-overfitting.png\">"
     ]
    },
    {
     "cell_type": "code",
     "collapsed": false,
     "input": [
      "#Dzielimy na dane trenuj\u0105ce i testuj\u0105ce\n",
      "X_train, X_test, Y_train, Y_test = train_test_split(X,Y)"
     ],
     "language": "python",
     "metadata": {},
     "outputs": [],
     "prompt_number": 6
    },
    {
     "cell_type": "markdown",
     "metadata": {},
     "source": [
      "### Krok 2: dopasujmy pare modeli - uwaga! To juz trwa chwile, 70000 przykladow o 784 cechach kazdy."
     ]
    },
    {
     "cell_type": "code",
     "collapsed": false,
     "input": [
      "# Na wszystkich przykladach osiaga 92% dokladnosci. \n",
      "N = 500 # Podzbi\u00f3r danych\n",
      "model = LogisticRegression() # Model z domy\u015blnymi parametrami\n",
      "model.fit(X_train[0:N], Y_train[0:N])\n",
      "\n",
      "Y_test_predicted = model.predict(X_test)\n",
      "print \"Dok\u0142adno\u015b\u0107 modelu wytrenowanego na \",N, \" przykladach to: \",100*sklearn.metrics.accuracy_score(Y_test, Y_test_predicted), \"%\""
     ],
     "language": "python",
     "metadata": {},
     "outputs": [
      {
       "output_type": "stream",
       "stream": "stdout",
       "text": [
        "Dok\u0142adno\u015b\u0107 modelu wytrenowanego na  500  przykladach to:  78.6628571429 %\n"
       ]
      }
     ],
     "prompt_number": 7
    },
    {
     "cell_type": "code",
     "collapsed": false,
     "input": [
      "Y_test[0]"
     ],
     "language": "python",
     "metadata": {},
     "outputs": [
      {
       "metadata": {},
       "output_type": "pyout",
       "prompt_number": 8,
       "text": [
        "3.0"
       ]
      }
     ],
     "prompt_number": 8
    },
    {
     "cell_type": "code",
     "collapsed": false,
     "input": [
      "plt.imshow(model.coef_[3].reshape(28,28), cmap=\"gray\")"
     ],
     "language": "python",
     "metadata": {},
     "outputs": [
      {
       "metadata": {},
       "output_type": "pyout",
       "prompt_number": 9,
       "text": [
        "<matplotlib.image.AxesImage at 0x7ff3b8a68250>"
       ]
      },
      {
       "metadata": {},
       "output_type": "display_data",
       "png": "[encoded data removed]",
       "text": [
        "<matplotlib.figure.Figure at 0x7ff3b8b572d0>"
       ]
      }
     ],
     "prompt_number": 9
    },
    {
     "cell_type": "code",
     "collapsed": false,
     "input": [
      "plt.imshow(model.coef_[0].reshape(28,28), cmap=\"gray\")"
     ],
     "language": "python",
     "metadata": {},
     "outputs": [
      {
       "metadata": {},
       "output_type": "pyout",
       "prompt_number": 10,
       "text": [
        "<matplotlib.image.AxesImage at 0x7ff3b8930810>"
       ]
      },
      {
       "metadata": {},
       "output_type": "display_data",
       "png": "[encoded data removed]",
       "text": [
        "<matplotlib.figure.Figure at 0x7ff3b8a22d50>"
       ]
      }
     ],
     "prompt_number": 10
    },
    {
     "cell_type": "code",
     "collapsed": false,
     "input": [
      "print \"Przyklad zaklasyfikowany jako \", model.predict(X_test[0])\n",
      "plt.imshow(X_test[0].reshape(28,28), cmap=\"gray\")"
     ],
     "language": "python",
     "metadata": {},
     "outputs": [
      {
       "output_type": "stream",
       "stream": "stdout",
       "text": [
        "Przyklad zaklasyfikowany jako  [ 3.]\n"
       ]
      },
      {
       "metadata": {},
       "output_type": "pyout",
       "prompt_number": 11,
       "text": [
        "<matplotlib.image.AxesImage at 0x7ff37cf88dd0>"
       ]
      },
      {
       "metadata": {},
       "output_type": "display_data",
       "png": "[encoded data removed]",
       "text": [
        "<matplotlib.figure.Figure at 0x7ff3b8947a90>"
       ]
      }
     ],
     "prompt_number": 11
    },
    {
     "cell_type": "markdown",
     "metadata": {},
     "source": [
      "### Krok 3: Tworzymy caly model zmniejszaj\u0105c ilo\u015b\u0107 przyk\u0142ad\u00f3w\n",
      "\n",
      "W scikit-learn mo\u017cemy po\u0142\u0105czy\u0107 pare modeli w **pipeline**, kt\u00f3ry sam implementuje interfejs **Estimator**."
     ]
    },
    {
     "cell_type": "code",
     "collapsed": false,
     "input": [
      "pca = decomposition.PCA(n_components=20)\n",
      "pca.fit(X_train)\n",
      "X_train_transf = pca.transform(X_train)"
     ],
     "language": "python",
     "metadata": {},
     "outputs": [],
     "prompt_number": 12
    },
    {
     "cell_type": "code",
     "collapsed": true,
     "input": [
      "logistic = linear_model.LogisticRegression(C=0.1)\n",
      "logistic.fit(X_train_transf, Y_train)"
     ],
     "language": "python",
     "metadata": {},
     "outputs": [
      {
       "metadata": {},
       "output_type": "pyout",
       "prompt_number": 13,
       "text": [
        "LogisticRegression(C=0.1, class_weight=None, dual=False, fit_intercept=True,\n",
        "          intercept_scaling=1, penalty='l2', random_state=None, tol=0.0001)"
       ]
      }
     ],
     "prompt_number": 13
    },
    {
     "cell_type": "markdown",
     "metadata": {},
     "source": [
      "Pipeline pozwala spina\u0107 obiekty typu `Estimator`. Za pomoc\u0105 pipeline mo\u017cna tworzy\u0107 bardzo skomplikowane modele, kt\u00f3re maj\u0105 bardzo prosty interfejs"
     ]
    },
    {
     "cell_type": "code",
     "collapsed": false,
     "input": [
      "pipe = Pipeline(steps=[('pca', pca), ('logistic', logistic)])"
     ],
     "language": "python",
     "metadata": {},
     "outputs": [],
     "prompt_number": 14
    },
    {
     "cell_type": "code",
     "collapsed": false,
     "input": [
      "#Zobaczmy na dok\u0142adno\u015b\u0107 modelu\n",
      "Y_test_predicted = pipe.predict(X_test)\n",
      "print \"Dok\u0142adno\u015b\u0107 modelu wytrenowanego to: \",100*sklearn.metrics.accuracy_score(Y_test, Y_test_predicted), \"%\""
     ],
     "language": "python",
     "metadata": {},
     "outputs": [
      {
       "output_type": "stream",
       "stream": "stdout",
       "text": [
        "Dok\u0142adno\u015b\u0107 modelu wytrenowanego to:  84.6685714286 %\n"
       ]
      }
     ],
     "prompt_number": 15
    },
    {
     "cell_type": "markdown",
     "metadata": {},
     "source": [
      "### Poszukajmy najlepszych hiperparametr\u00f3w"
     ]
    },
    {
     "cell_type": "code",
     "collapsed": false,
     "input": [
      "from sklearn.grid_search import GridSearchCV\n",
      "\n",
      "N = 200\n",
      "tuned_parameters = [{'pca__n_components':[10,20,30], 'logistic__C':  [1, 10, 100, 1000]}]\n",
      "clf_fitted = Pipeline(steps=[('pca', pca), ('logistic', logistic)])\n",
      "clf = GridSearchCV(clf_fitted, tuned_parameters, cv=5, scoring='accuracy', verbose=4)\n",
      "clf.fit(X_train[0:N], Y_train[0:N])"
     ],
     "language": "python",
     "metadata": {},
     "outputs": [
      {
       "output_type": "stream",
       "stream": "stdout",
       "text": [
        "Fitting 5 folds for each of 12 candidates, totalling 60 fits\n",
        "[CV] logistic__C=1, pca__n_components=10 .............................\n",
        "[CV] .... logistic__C=1, pca__n_components=10, score=0.604651 -   0.0s\n",
        "[CV] logistic__C=1, pca__n_components=10 .............................\n",
        "[CV] .... logistic__C=1, pca__n_components=10, score=0.690476 -   0.0s"
       ]
      },
      {
       "output_type": "stream",
       "stream": "stdout",
       "text": [
        "\n",
        "[CV] logistic__C=1, pca__n_components=10 .............................\n",
        "[CV] .... logistic__C=1, pca__n_components=10, score=0.675000 -   0.0s\n",
        "[CV] logistic__C=1, pca__n_components=10 .............................\n",
        "[CV] .... logistic__C=1, pca__n_components=10, score=0.657895 -   0.0s"
       ]
      },
      {
       "output_type": "stream",
       "stream": "stdout",
       "text": [
        "\n",
        "[CV] logistic__C=1, pca__n_components=10 .............................\n",
        "[CV] .... logistic__C=1, pca__n_components=10, score=0.648649 -   0.1s"
       ]
      },
      {
       "output_type": "stream",
       "stream": "stdout",
       "text": [
        "\n",
        "[CV] logistic__C=1, pca__n_components=20 .............................\n",
        "[CV] .... logistic__C=1, pca__n_components=20, score=0.720930 -   0.1s"
       ]
      },
      {
       "output_type": "stream",
       "stream": "stdout",
       "text": [
        "\n",
        "[CV] logistic__C=1, pca__n_components=20 .............................\n",
        "[CV] .... logistic__C=1, pca__n_components=20, score=0.761905 -   0.1s"
       ]
      },
      {
       "output_type": "stream",
       "stream": "stdout",
       "text": [
        "\n",
        "[CV] logistic__C=1, pca__n_components=20 .............................\n",
        "[CV] .... logistic__C=1, pca__n_components=20, score=0.750000 -   0.1s"
       ]
      },
      {
       "output_type": "stream",
       "stream": "stdout",
       "text": [
        "\n",
        "[CV] logistic__C=1, pca__n_components=20 .............................\n",
        "[CV] .... logistic__C=1, pca__n_components=20, score=0.710526 -   0.1s"
       ]
      },
      {
       "output_type": "stream",
       "stream": "stdout",
       "text": [
        "\n",
        "[CV] logistic__C=1, pca__n_components=20 .............................\n",
        "[CV] .... logistic__C=1, pca__n_components=20, score=0.756757 -   0.1s"
       ]
      },
      {
       "output_type": "stream",
       "stream": "stdout",
       "text": [
        "\n",
        "[CV] logistic__C=1, pca__n_components=30 .............................\n",
        "[CV] .... logistic__C=1, pca__n_components=30, score=0.744186 -   0.1s"
       ]
      },
      {
       "output_type": "stream",
       "stream": "stdout",
       "text": [
        "\n",
        "[CV] logistic__C=1, pca__n_components=30 .............................\n",
        "[CV] .... logistic__C=1, pca__n_components=30, score=0.738095 -   0.1s"
       ]
      },
      {
       "output_type": "stream",
       "stream": "stdout",
       "text": [
        "\n",
        "[CV] logistic__C=1, pca__n_components=30 .............................\n",
        "[CV] .... logistic__C=1, pca__n_components=30, score=0.725000 -   0.1s"
       ]
      },
      {
       "output_type": "stream",
       "stream": "stdout",
       "text": [
        "\n",
        "[CV] logistic__C=1, pca__n_components=30 .............................\n",
        "[CV] .... logistic__C=1, pca__n_components=30, score=0.789474 -   0.1s"
       ]
      },
      {
       "output_type": "stream",
       "stream": "stdout",
       "text": [
        "\n",
        "[CV] logistic__C=1, pca__n_components=30 .............................\n",
        "[CV] .... logistic__C=1, pca__n_components=30, score=0.837838 -   0.1s"
       ]
      },
      {
       "output_type": "stream",
       "stream": "stdout",
       "text": [
        "\n",
        "[CV] logistic__C=10, pca__n_components=10 ............................\n",
        "[CV] ... logistic__C=10, pca__n_components=10, score=0.674419 -   0.0s\n",
        "[CV] logistic__C=10, pca__n_components=10 ............................\n",
        "[CV] ... logistic__C=10, pca__n_components=10, score=0.690476 -   0.0s"
       ]
      },
      {
       "output_type": "stream",
       "stream": "stdout",
       "text": [
        "\n",
        "[CV] logistic__C=10, pca__n_components=10 ............................\n",
        "[CV] ... logistic__C=10, pca__n_components=10, score=0.675000 -   0.0s\n",
        "[CV] logistic__C=10, pca__n_components=10 ............................"
       ]
      },
      {
       "output_type": "stream",
       "stream": "stdout",
       "text": [
        "\n",
        "[CV] ... logistic__C=10, pca__n_components=10, score=0.710526 -   0.1s"
       ]
      },
      {
       "output_type": "stream",
       "stream": "stdout",
       "text": [
        "\n",
        "[CV] logistic__C=10, pca__n_components=10 ............................\n",
        "[CV] ... logistic__C=10, pca__n_components=10, score=0.702703 -   0.0s\n",
        "[CV] logistic__C=10, pca__n_components=20 ............................\n",
        "[CV] ... logistic__C=10, pca__n_components=20, score=0.790698 -   0.1s"
       ]
      },
      {
       "output_type": "stream",
       "stream": "stdout",
       "text": [
        "\n",
        "[CV] logistic__C=10, pca__n_components=20 ............................\n",
        "[CV] ... logistic__C=10, pca__n_components=20, score=0.761905 -   0.1s"
       ]
      },
      {
       "output_type": "stream",
       "stream": "stdout",
       "text": [
        "\n",
        "[CV] logistic__C=10, pca__n_components=20 ............................\n",
        "[CV] ... logistic__C=10, pca__n_components=20, score=0.700000 -   0.1s"
       ]
      },
      {
       "output_type": "stream",
       "stream": "stdout",
       "text": [
        "\n",
        "[CV] logistic__C=10, pca__n_components=20 ............................\n",
        "[CV] ... logistic__C=10, pca__n_components=20, score=0.789474 -   0.1s"
       ]
      },
      {
       "output_type": "stream",
       "stream": "stdout",
       "text": [
        "\n",
        "[CV] logistic__C=10, pca__n_components=20 ............................\n",
        "[CV] ... logistic__C=10, pca__n_components=20, score=0.783784 -   0.1s"
       ]
      },
      {
       "output_type": "stream",
       "stream": "stderr",
       "text": [
        "[Parallel(n_jobs=1)]: Done   1 jobs       | elapsed:    0.0s\n",
        "[Parallel(n_jobs=1)]: Done  25 jobs       | elapsed:    1.5s\n"
       ]
      },
      {
       "output_type": "stream",
       "stream": "stdout",
       "text": [
        "\n",
        "[CV] logistic__C=10, pca__n_components=30 ............................\n",
        "[CV] ... logistic__C=10, pca__n_components=30, score=0.720930 -   0.1s"
       ]
      },
      {
       "output_type": "stream",
       "stream": "stdout",
       "text": [
        "\n",
        "[CV] logistic__C=10, pca__n_components=30 ............................\n",
        "[CV] ... logistic__C=10, pca__n_components=30, score=0.738095 -   0.1s"
       ]
      },
      {
       "output_type": "stream",
       "stream": "stdout",
       "text": [
        "\n",
        "[CV] logistic__C=10, pca__n_components=30 ............................\n",
        "[CV] ... logistic__C=10, pca__n_components=30, score=0.775000 -   0.1s"
       ]
      },
      {
       "output_type": "stream",
       "stream": "stdout",
       "text": [
        "\n",
        "[CV] logistic__C=10, pca__n_components=30 ............................\n",
        "[CV] ... logistic__C=10, pca__n_components=30, score=0.789474 -   0.1s"
       ]
      },
      {
       "output_type": "stream",
       "stream": "stdout",
       "text": [
        "\n",
        "[CV] logistic__C=10, pca__n_components=30 ............................\n",
        "[CV] ... logistic__C=10, pca__n_components=30, score=0.783784 -   0.1s"
       ]
      },
      {
       "output_type": "stream",
       "stream": "stdout",
       "text": [
        "\n",
        "[CV] logistic__C=100, pca__n_components=10 ...........................\n",
        "[CV] .. logistic__C=100, pca__n_components=10, score=0.697674 -   0.1s"
       ]
      },
      {
       "output_type": "stream",
       "stream": "stdout",
       "text": [
        "\n",
        "[CV] logistic__C=100, pca__n_components=10 ...........................\n",
        "[CV] .. logistic__C=100, pca__n_components=10, score=0.690476 -   0.1s"
       ]
      },
      {
       "output_type": "stream",
       "stream": "stdout",
       "text": [
        "\n",
        "[CV] logistic__C=100, pca__n_components=10 ...........................\n",
        "[CV] .. logistic__C=100, pca__n_components=10, score=0.700000 -   0.1s"
       ]
      },
      {
       "output_type": "stream",
       "stream": "stdout",
       "text": [
        "\n",
        "[CV] logistic__C=100, pca__n_components=10 ...........................\n",
        "[CV] .. logistic__C=100, pca__n_components=10, score=0.710526 -   0.0s\n",
        "[CV] logistic__C=100, pca__n_components=10 ...........................\n",
        "[CV] .. logistic__C=100, pca__n_components=10, score=0.621622 -   0.0s"
       ]
      },
      {
       "output_type": "stream",
       "stream": "stdout",
       "text": [
        "\n",
        "[CV] logistic__C=100, pca__n_components=20 ...........................\n",
        "[CV] .. logistic__C=100, pca__n_components=20, score=0.767442 -   0.1s"
       ]
      },
      {
       "output_type": "stream",
       "stream": "stdout",
       "text": [
        "\n",
        "[CV] logistic__C=100, pca__n_components=20 ...........................\n",
        "[CV] .. logistic__C=100, pca__n_components=20, score=0.714286 -   0.1s"
       ]
      },
      {
       "output_type": "stream",
       "stream": "stdout",
       "text": [
        "\n",
        "[CV] logistic__C=100, pca__n_components=20 ...........................\n",
        "[CV] .. logistic__C=100, pca__n_components=20, score=0.675000 -   0.1s"
       ]
      },
      {
       "output_type": "stream",
       "stream": "stdout",
       "text": [
        "\n",
        "[CV] logistic__C=100, pca__n_components=20 ...........................\n",
        "[CV] .. logistic__C=100, pca__n_components=20, score=0.789474 -   0.1s"
       ]
      },
      {
       "output_type": "stream",
       "stream": "stdout",
       "text": [
        "\n",
        "[CV] logistic__C=100, pca__n_components=20 ...........................\n",
        "[CV] .. logistic__C=100, pca__n_components=20, score=0.702703 -   0.1s"
       ]
      },
      {
       "output_type": "stream",
       "stream": "stdout",
       "text": [
        "\n",
        "[CV] logistic__C=100, pca__n_components=30 ...........................\n",
        "[CV] .. logistic__C=100, pca__n_components=30, score=0.720930 -   0.2s"
       ]
      },
      {
       "output_type": "stream",
       "stream": "stdout",
       "text": [
        "\n",
        "[CV] logistic__C=100, pca__n_components=30 ...........................\n",
        "[CV] .. logistic__C=100, pca__n_components=30, score=0.714286 -   0.1s"
       ]
      },
      {
       "output_type": "stream",
       "stream": "stdout",
       "text": [
        "\n",
        "[CV] logistic__C=100, pca__n_components=30 ...........................\n",
        "[CV] .. logistic__C=100, pca__n_components=30, score=0.750000 -   0.1s"
       ]
      },
      {
       "output_type": "stream",
       "stream": "stdout",
       "text": [
        "\n",
        "[CV] logistic__C=100, pca__n_components=30 ...........................\n",
        "[CV] .. logistic__C=100, pca__n_components=30, score=0.763158 -   0.1s"
       ]
      },
      {
       "output_type": "stream",
       "stream": "stdout",
       "text": [
        "\n",
        "[CV] logistic__C=100, pca__n_components=30 ...........................\n",
        "[CV] .. logistic__C=100, pca__n_components=30, score=0.675676 -   0.1s"
       ]
      },
      {
       "output_type": "stream",
       "stream": "stdout",
       "text": [
        "\n",
        "[CV] logistic__C=1000, pca__n_components=10 ..........................\n",
        "[CV] . logistic__C=1000, pca__n_components=10, score=0.697674 -   0.0s"
       ]
      },
      {
       "output_type": "stream",
       "stream": "stdout",
       "text": [
        "\n",
        "[CV] logistic__C=1000, pca__n_components=10 ..........................\n",
        "[CV] . logistic__C=1000, pca__n_components=10, score=0.690476 -   0.1s"
       ]
      },
      {
       "output_type": "stream",
       "stream": "stdout",
       "text": [
        "\n",
        "[CV] logistic__C=1000, pca__n_components=10 ..........................\n",
        "[CV] . logistic__C=1000, pca__n_components=10, score=0.700000 -   0.1s"
       ]
      },
      {
       "output_type": "stream",
       "stream": "stdout",
       "text": [
        "\n",
        "[CV] logistic__C=1000, pca__n_components=10 ..........................\n",
        "[CV] . logistic__C=1000, pca__n_components=10, score=0.710526 -   0.1s"
       ]
      },
      {
       "output_type": "stream",
       "stream": "stdout",
       "text": [
        "\n",
        "[CV] logistic__C=1000, pca__n_components=10 ..........................\n",
        "[CV] . logistic__C=1000, pca__n_components=10, score=0.621622 -   0.1s"
       ]
      },
      {
       "output_type": "stream",
       "stream": "stdout",
       "text": [
        "\n",
        "[CV] logistic__C=1000, pca__n_components=20 ..........................\n",
        "[CV] . logistic__C=1000, pca__n_components=20, score=0.744186 -   0.1s"
       ]
      },
      {
       "output_type": "stream",
       "stream": "stdout",
       "text": [
        "\n",
        "[CV] logistic__C=1000, pca__n_components=20 ..........................\n",
        "[CV] . logistic__C=1000, pca__n_components=20, score=0.714286 -   0.1s"
       ]
      },
      {
       "output_type": "stream",
       "stream": "stdout",
       "text": [
        "\n",
        "[CV] logistic__C=1000, pca__n_components=20 ..........................\n",
        "[CV] . logistic__C=1000, pca__n_components=20, score=0.675000 -   0.1s"
       ]
      },
      {
       "output_type": "stream",
       "stream": "stdout",
       "text": [
        "\n",
        "[CV] logistic__C=1000, pca__n_components=20 ..........................\n",
        "[CV] . logistic__C=1000, pca__n_components=20, score=0.763158 -   0.2s"
       ]
      },
      {
       "output_type": "stream",
       "stream": "stdout",
       "text": [
        "\n",
        "[CV] logistic__C=1000, pca__n_components=20 ..........................\n",
        "[CV] . logistic__C=1000, pca__n_components=20, score=0.675676 -   0.1s"
       ]
      },
      {
       "output_type": "stream",
       "stream": "stdout",
       "text": [
        "\n",
        "[CV] logistic__C=1000, pca__n_components=30 ..........................\n",
        "[CV] . logistic__C=1000, pca__n_components=30, score=0.674419 -   0.1s"
       ]
      },
      {
       "output_type": "stream",
       "stream": "stdout",
       "text": [
        "\n",
        "[CV] logistic__C=1000, pca__n_components=30 ..........................\n",
        "[CV] . logistic__C=1000, pca__n_components=30, score=0.690476 -   0.1s"
       ]
      },
      {
       "output_type": "stream",
       "stream": "stdout",
       "text": [
        "\n",
        "[CV] logistic__C=1000, pca__n_components=30 ..........................\n",
        "[CV] . logistic__C=1000, pca__n_components=30, score=0.675000 -   0.2s"
       ]
      },
      {
       "output_type": "stream",
       "stream": "stdout",
       "text": [
        "\n",
        "[CV] logistic__C=1000, pca__n_components=30 ..........................\n",
        "[CV] . logistic__C=1000, pca__n_components=30, score=0.736842 -   0.1s"
       ]
      },
      {
       "output_type": "stream",
       "stream": "stdout",
       "text": [
        "\n",
        "[CV] logistic__C=1000, pca__n_components=30 ..........................\n",
        "[CV] . logistic__C=1000, pca__n_components=30, score=0.621622 -   0.2s"
       ]
      },
      {
       "output_type": "stream",
       "stream": "stdout",
       "text": [
        "\n"
       ]
      },
      {
       "output_type": "stream",
       "stream": "stderr",
       "text": [
        "[Parallel(n_jobs=1)]: Done  60 out of  60 | elapsed:    4.9s finished\n"
       ]
      },
      {
       "metadata": {},
       "output_type": "pyout",
       "prompt_number": 16,
       "text": [
        "GridSearchCV(cv=5,\n",
        "       estimator=Pipeline(steps=[('pca', PCA(copy=True, n_components=20, whiten=False)), ('logistic', LogisticRegression(C=0.1, class_weight=None, dual=False, fit_intercept=True,\n",
        "          intercept_scaling=1, penalty='l2', random_state=None, tol=0.0001))]),\n",
        "       fit_params={}, iid=True, loss_func=None, n_jobs=1,\n",
        "       param_grid=[{'logistic__C': [1, 10, 100, 1000], 'pca__n_components': [10, 20, 30]}],\n",
        "       pre_dispatch='2*n_jobs', refit=True, score_func=None,\n",
        "       scoring='accuracy', verbose=4)"
       ]
      }
     ],
     "prompt_number": 16
    },
    {
     "cell_type": "code",
     "collapsed": false,
     "input": [
      "clf.best_estimator_"
     ],
     "language": "python",
     "metadata": {},
     "outputs": [
      {
       "metadata": {},
       "output_type": "pyout",
       "prompt_number": 17,
       "text": [
        "Pipeline(steps=[('pca', PCA(copy=True, n_components=30, whiten=False)), ('logistic', LogisticRegression(C=1, class_weight=None, dual=False, fit_intercept=True,\n",
        "          intercept_scaling=1, penalty='l2', random_state=None, tol=0.0001))])"
       ]
      }
     ],
     "prompt_number": 17
    },
    {
     "cell_type": "code",
     "collapsed": false,
     "input": [
      "#Zobaczmy na dok\u0142adno\u015b\u0107 modelu\n",
      "Y_test_predicted = clf.best_estimator_.predict(X_test)\n",
      "print \"Dok\u0142adno\u015b\u0107 modelu wytrenowanego to: \",100*sklearn.metrics.accuracy_score(Y_test, Y_test_predicted), \"%\""
     ],
     "language": "python",
     "metadata": {},
     "outputs": [
      {
       "output_type": "stream",
       "stream": "stdout",
       "text": [
        "Dok\u0142adno\u015b\u0107 modelu wytrenowanego to:  75.9085714286 %\n"
       ]
      }
     ],
     "prompt_number": 18
    },
    {
     "cell_type": "markdown",
     "metadata": {},
     "source": [
      "**Poprawa o 6%! Nice**"
     ]
    },
    {
     "cell_type": "code",
     "collapsed": false,
     "input": [
      "from sklearn.datasets import fetch_lfw_people\n",
      "\n",
      "# Wczytanie danych i rozmiarow\n",
      "lfw_people = fetch_lfw_people(min_faces_per_person=70, resize=0.4)\n",
      "n_samples, h, w = lfw_people.images.shape\n",
      "\n",
      "# Podzial na zbior trenujacy i testujacy\n",
      "X = lfw_people.data\n",
      "Y = lfw_people.target\n",
      "X = preprocessing.scale(X.astype(\"float64\")) #scale() to preprocessing kt\u00f3ry normalizuje dane ze sa symetrycznie wokol 0\n",
      "X_train, X_test, Y_train, Y_test = train_test_split(X,Y)\n",
      "\n",
      "\n",
      "plt.imshow(X_train[2].reshape(h,w), cmap=plt.cm.gray)\n",
      "logistic = linear_model.LogisticRegression(C=1)\n",
      "logistic.fit(X_train, Y_train)\n",
      "pipe = Pipeline(steps=[('pca', pca), ('logistic', logistic)])\n",
      "Y_test_predicted = logistic.predict(X_test)\n",
      "print \"Dok\u0142adno\u015b\u0107 modelu wytrenowanego to: \",100*sklearn.metrics.accuracy_score(Y_test, Y_test_predicted), \"%\""
     ],
     "language": "python",
     "metadata": {},
     "outputs": [
      {
       "output_type": "stream",
       "stream": "stdout",
       "text": [
        "Dok\u0142adno\u015b\u0107 modelu wytrenowanego to:  85.7142857143 %\n"
       ]
      },
      {
       "metadata": {},
       "output_type": "display_data",
       "png": "[encoded data removed]",
       "text": [
        "<matplotlib.figure.Figure at 0x7ff37cfca610>"
       ]
      }
     ],
     "prompt_number": 19
    },
    {
     "cell_type": "code",
     "collapsed": false,
     "input": [
      "n_samples, h, w"
     ],
     "language": "python",
     "metadata": {},
     "outputs": [
      {
       "metadata": {},
       "output_type": "pyout",
       "prompt_number": 20,
       "text": [
        "(1288, 50, 37)"
       ]
      }
     ],
     "prompt_number": 20
    },
    {
     "cell_type": "markdown",
     "metadata": {},
     "source": [
      "# Konkurs\n",
      "\n",
      "Wczyta\u0107 i analogicznie jak poprzednio zbudowa\u0107 najlepszy model do zbioru danych faces z scikit-learn\n",
      "\n",
      "<img src=\"figures/faces.png\">\n",
      "\n",
      "Podpowiedzi:\n",
      "\n",
      "0. Warto pami\u0119ta\u0107 o skalowaniu danych\n",
      "1. Jest to stosunkowo ma\u0142y zbi\u00f3r - prosty model nie b\u0119dzie potrzebowa\u0142 PCA\n",
      "2. Znale\u017a\u0107 najlepsze hiperparametry (tylko 1 w LogisticRegression)\n",
      "3. Spr\u00f3bowa\u0107 innego modelu (traktuj\u0105c go jako czarne pude\u0142ko z funkcja fit i predict :) ).\n",
      "    * np. SVC z kernel=\"rbf\" (ma 2 hiperparametry C, gamma)\n",
      "4. Je\u015bli dobieramy 2 hiperparametry warto u\u017cyc GridSearch (samo szuka najlepszy zestaw parametr\u00f3w) np. http://scikit-learn.org/stable/modules/generated/sklearn.grid_search.GridSearchCV.html#sklearn.grid_search.GridSearchCV \n",
      "5. Je\u015bli u\u017cywamy bardziej skomplikowanego modelu (np. wspomnianego SVC) to nale\u017cy u\u017cy\u0107 PCA (**lub innej techniki redukcji wymiar\u00f3w**, PCA jest bardzo prostym modelem, zobaczy\u0107 `na sklearn.demposition`)"
     ]
    }
   ],
   "metadata": {}
  }
 ]
}
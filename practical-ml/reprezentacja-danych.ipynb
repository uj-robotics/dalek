{
 "metadata": {
  "name": "",
  "signature": "sha256:5193671dc333072f73396391ebbde4545f6794d4d8baa2600e36336ffee90775"
 },
 "nbformat": 3,
 "nbformat_minor": 0,
 "worksheets": [
  {
   "cells": [
    {
     "cell_type": "markdown",
     "metadata": {},
     "source": [
      "# Praktyczny Machine Learning w Pythonie\n",
      "<br>\n",
      "<img src=\"boyfriend.png\">\n",
      "\n",
      "## Co to jest Machine Learning? \n",
      "\n",
      "Machine learning zajmuje si\u0119 tworzeniem modeli na podstawie danych, kt\u00f3re potrafi\u0105 rozwi\u0105zywa\u0107 dany problem, na przyk\u0142ad klasyfikowa\u0107 cyfry lub rozpoznawa\u0107 czy dany e-mail jest spamem.  Stworzony model (na podstawie zbioru danych, np. e-maili sprzed paru lat) potem jest testowany na nowych przyk\u0142adach (nowych e-mailach).\n",
      "\n",
      "Praktyczne systemy machine learningu dzia\u0142aj\u0105 wsz\u0119dzie. Przyk\u0142ady to Amazon, Google Translate, Filmweb, rozpoznawanie g\u0142osu w Androidzie itp.\n",
      "\n",
      "Jak wspomina\u0142em celem warsztat\u00f3w nie jest nauka machine learningu samego w sobie, \n",
      "tylko raczej wykorzystanie go do rozwi\u0105zania konkretnego problemu. Pod koniec zamieszcz\u0119 dobre \u017ar\u00f3d\u0142a do samodzielnej nauki.\n",
      "\n",
      "<img src=\"ml-chart-simple.jpg\">\n",
      "\n",
      "\n",
      "** Skupmy si\u0119 na problemie klasyfikacji. Chcemy nauczy\u0107 algorytm kt\u00f3ry przydzieli ka\u017cdemu przyk\u0142adowi (obrazek, zdanie, itp.) jak\u0105\u015b warto\u015b\u0107 na podstawie jaki\u015b danych. ** Przyk\u0142adowo:\n",
      "\n",
      "* Jaka to cyfra:\n",
      "    * dane: obrazek cyfry\n",
      "    * mo\u017cliwe klasy: 0,1,2,3,4,5,6,7,8,9\n",
      "* Czy na obrazku znajduje si\u0119 motor? (mo\u017cliwe klasy/warto\u015bci: 0/1)\n",
      "* Czy jutro b\u0119dzie pada\u0142o (mo\u017cliwe klasy: 0/1).\n",
      "    * dane: wiatr, temperatura i opady sprzed 10 dni\n",
      "\n",
      "<img src=\"figures/2d_classification.jpg\">\n",
      "\n",
      "## Reprezentacja danych - kwiatek w komputerze?\n",
      "\n",
      "Iris to znany zbi\u00f3r danych, w kt\u00f3rych przyk\u0142adami s\u0105 r\u00f3\u017cne gatunki irysa (kwiatek!), kt\u00f3rym staramy si\u0119 przyporz\u0105dkowa\u0107 gatunek (jeden z trzech).\n",
      "\n",
      "Musimy jako\u015b ten kwiatek zareprezentowa\u0107 w komputerze. W tym celu zwykle opisujemy ka\u017cdy przyk\u0142ad wektorem liczb (numpy!), np. mo\u017cemy zmierzy\u0107 wielko\u015b\u0107 p\u0142atk\u00f3w.\n",
      "\n",
      "Pakiet scikit-learn (o kt\u00f3rym b\u0119dzie wi\u0119cej!) ma wbudowany zbi\u00f3r Iris.\n",
      "\n",
      "Ka\u017cdy kwiatek jest opisany jako wektor 4 liczb opisuj\u0105cych wymiary kwiatka\n",
      "\n",
      "1. D\u0142ugo\u015b\u0107 p\u0142atka w cm\n",
      "2. Szerokos\u0107 p\u0142atka w cm\n",
      "3. D\u0142ugo\u015b\u0107 dzia\u0142ki kielicha (??) w cm\n",
      "4. Szeroko\u015b\u0107 dzia\u0142ki kielicha (??) w cm\n",
      "\n",
      "Staramy si\u0119 przewidzie\u0107 gatunek, czyli jeden z :\n",
      "\n",
      "1. Iris Setosa\n",
      "2. Iris Versicolour\n",
      "3. Iris Virginica"
     ]
    },
    {
     "cell_type": "markdown",
     "metadata": {},
     "source": [
      "Wi\u0119kszo\u015b\u0107 danych w scikit-learn reprezentowanych jest jako macierz ilo\u015b\u0107 przyk\u0142ad\u00f3w x ilo\u015b\u0107 cech, \n",
      "czyli ka\u017cdy wiersz to jeden przyk\u0142ad"
     ]
    },
    {
     "cell_type": "code",
     "collapsed": false,
     "input": [
      "from sklearn.datasets import load_iris\n",
      "iris = load_iris()"
     ],
     "language": "python",
     "metadata": {},
     "outputs": [],
     "prompt_number": 7
    },
    {
     "cell_type": "code",
     "collapsed": false,
     "input": [
      "# Za\u0142adowany obiekt jest s\u0142ownikiem\n",
      "iris.keys()"
     ],
     "language": "python",
     "metadata": {},
     "outputs": [
      {
       "metadata": {},
       "output_type": "pyout",
       "prompt_number": 8,
       "text": [
        "['target_names', 'data', 'target', 'DESCR', 'feature_names']"
       ]
      }
     ],
     "prompt_number": 8
    },
    {
     "cell_type": "code",
     "collapsed": false,
     "input": [
      "# Nawet ma \u0142adny opis ocb.\n",
      "print iris[\"DESCR\"] "
     ],
     "language": "python",
     "metadata": {},
     "outputs": [
      {
       "output_type": "stream",
       "stream": "stdout",
       "text": [
        "Iris Plants Database\n",
        "\n",
        "Notes\n",
        "-----\n",
        "Data Set Characteristics:\n",
        "    :Number of Instances: 150 (50 in each of three classes)\n",
        "    :Number of Attributes: 4 numeric, predictive attributes and the class\n",
        "    :Attribute Information:\n",
        "        - sepal length in cm\n",
        "        - sepal width in cm\n",
        "        - petal length in cm\n",
        "        - petal width in cm\n",
        "        - class:\n",
        "                - Iris-Setosa\n",
        "                - Iris-Versicolour\n",
        "                - Iris-Virginica\n",
        "    :Summary Statistics:\n",
        "    ============== ==== ==== ======= ===== ====================\n",
        "                    Min  Max   Mean    SD   Class Correlation\n",
        "    ============== ==== ==== ======= ===== ====================\n",
        "    sepal length:   4.3  7.9   5.84   0.83    0.7826\n",
        "    sepal width:    2.0  4.4   3.05   0.43   -0.4194\n",
        "    petal length:   1.0  6.9   3.76   1.76    0.9490  (high!)\n",
        "    petal width:    0.1  2.5   1.20  0.76     0.9565  (high!)\n",
        "    ============== ==== ==== ======= ===== ====================\n",
        "    :Missing Attribute Values: None\n",
        "    :Class Distribution: 33.3% for each of 3 classes.\n",
        "    :Creator: R.A. Fisher\n",
        "    :Donor: Michael Marshall (MARSHALL%PLU@io.arc.nasa.gov)\n",
        "    :Date: July, 1988\n",
        "\n",
        "This is a copy of UCI ML iris datasets.\n",
        "http://archive.ics.uci.edu/ml/datasets/Iris\n",
        "\n",
        "The famous Iris database, first used by Sir R.A Fisher\n",
        "\n",
        "This is perhaps the best known database to be found in the\n",
        "pattern recognition literature.  Fisher's paper is a classic in the field and\n",
        "is referenced frequently to this day.  (See Duda & Hart, for example.)  The\n",
        "data set contains 3 classes of 50 instances each, where each class refers to a\n",
        "type of iris plant.  One class is linearly separable from the other 2; the\n",
        "latter are NOT linearly separable from each other.\n",
        "\n",
        "References\n",
        "----------\n",
        "   - Fisher,R.A. \"The use of multiple measurements in taxonomic problems\"\n",
        "     Annual Eugenics, 7, Part II, 179-188 (1936); also in \"Contributions to\n",
        "     Mathematical Statistics\" (John Wiley, NY, 1950).\n",
        "   - Duda,R.O., & Hart,P.E. (1973) Pattern Classification and Scene Analysis.\n",
        "     (Q327.D83) John Wiley & Sons.  ISBN 0-471-22361-1.  See page 218.\n",
        "   - Dasarathy, B.V. (1980) \"Nosing Around the Neighborhood: A New System\n",
        "     Structure and Classification Rule for Recognition in Partially Exposed\n",
        "     Environments\".  IEEE Transactions on Pattern Analysis and Machine\n",
        "     Intelligence, Vol. PAMI-2, No. 1, 67-71.\n",
        "   - Gates, G.W. (1972) \"The Reduced Nearest Neighbor Rule\".  IEEE Transactions\n",
        "     on Information Theory, May 1972, 431-433.\n",
        "   - See also: 1988 MLC Proceedings, 54-64.  Cheeseman et al\"s AUTOCLASS II\n",
        "     conceptual clustering system finds 3 classes in the data.\n",
        "   - Many, many more ...\n",
        "\n"
       ]
      }
     ],
     "prompt_number": 11
    },
    {
     "cell_type": "markdown",
     "metadata": {},
     "source": [
      "## Zbiory danych to macierze numpy !\n",
      "\n",
      "Macierz numpy przechowuje sw\u00f3j wymiar w zmiennej *shape*."
     ]
    },
    {
     "cell_type": "code",
     "collapsed": false,
     "input": [
      "n_samples, n_features = iris.data.shape\n",
      "print \"Macierz ma wymiar: \", iris.data.shape\n",
      "print \"Ilo\u015b\u0107 przyk\u0142ad\u00f3w: \", n_samples\n",
      "print \"Ka\u017cdy przyk\u0142ad ma \", n_features, \" cech\"\n",
      "print \"Pierwszy przyk\u0142ad: \", iris.data[0]"
     ],
     "language": "python",
     "metadata": {},
     "outputs": [
      {
       "output_type": "stream",
       "stream": "stdout",
       "text": [
        "Macierz ma wymiar:  (150, 4)\n",
        "Ilo\u015b\u0107 przyk\u0142ad\u00f3w:  150\n",
        "Ka\u017cdy przyk\u0142ad ma  4  cech\n",
        "Pierwszy przyk\u0142ad:  [ 5.1  3.5  1.4  0.2]\n"
       ]
      }
     ],
     "prompt_number": 13
    },
    {
     "cell_type": "markdown",
     "metadata": {},
     "source": [
      "### Cwiczenie 2: Jaka jest \u015brednia d\u0142ugo\u015b\u0107 p\u0142atka w zbiorze danych? (pierwsza cecha przyk\u0142adu, podpowied\u017a: macierz przyk\u0142ad\u00f3w jest w iris.data)"
     ]
    },
    {
     "cell_type": "code",
     "collapsed": false,
     "input": [
      "# Tutaj kod"
     ],
     "language": "python",
     "metadata": {},
     "outputs": []
    },
    {
     "cell_type": "code",
     "collapsed": false,
     "input": [
      "%matplotlib inline\n",
      "from matplotlib import pyplot as plt\n",
      "\n",
      "# Mo\u017cemy sobie narysowa\u0107 zbi\u00f3r danych\n",
      "x_index = 0\n",
      "y_index = 1\n",
      "\n",
      "# Troche magii\n",
      "formatter = plt.FuncFormatter(lambda i, *args: iris.target_names[int(i)])\n",
      "\n",
      "plt.scatter(iris.data[:, x_index], iris.data[:, y_index], c=iris.target)\n",
      "plt.colorbar(ticks=[0, 1, 2], format=formatter)\n",
      "plt.xlabel(iris.feature_names[x_index])\n",
      "plt.ylabel(iris.feature_names[y_index])"
     ],
     "language": "python",
     "metadata": {},
     "outputs": [
      {
       "metadata": {},
       "output_type": "pyout",
       "prompt_number": 15,
       "text": [
        "<matplotlib.text.Text at 0x7f4384a71950>"
       ]
      },
      {
       "metadata": {},
       "output_type": "display_data",
       "png": "[encoded data removed]",
       "text": [
        "<matplotlib.figure.Figure at 0x7f43b814f0d0>"
       ]
      }
     ],
     "prompt_number": 15
    },
    {
     "cell_type": "markdown",
     "metadata": {},
     "source": [
      "### \u0106wiczenie 3: We wcze\u015bniejszym przyk\u0142adzie narysowa\u0142em wykres na podstawie 1 i 2 cechy (2 z 4 cech). Prosz\u0119 sprawdzi\u0107 czy jaka\u015b inna kombinacja cech poprawia separowalno\u015b\u0107 przyk\u0142ad\u00f3w (\u0142atwiej je oddzieli\u0107 kresk\u0105)"
     ]
    },
    {
     "cell_type": "markdown",
     "metadata": {},
     "source": [
      "15 minut na rozwi\u0105zanie cwicze\u0144 (by\u0142y trzy)"
     ]
    }
   ],
   "metadata": {}
  }
 ]
}
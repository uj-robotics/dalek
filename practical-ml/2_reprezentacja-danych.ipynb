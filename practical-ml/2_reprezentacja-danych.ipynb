{
 "metadata": {
  "name": "",
  "signature": "sha256:2a48504fefe8a5c2556fd11d66e4b79a2fd9b211a703fbbc8f25179f2d6aba2c"
 },
 "nbformat": 3,
 "nbformat_minor": 0,
 "worksheets": [
  {
   "cells": [
    {
     "cell_type": "markdown",
     "metadata": {},
     "source": [
      "# Praktyczny Machine Learning w Pythonie\n",
      "<br>\n",
      "<img src=\"figures/boyfriend.png\">\n",
      "\n",
      "## Co to jest Machine Learning? \n",
      "\n",
      "Machine learning zajmuje si\u0119 tworzeniem modeli na podstawie danych, kt\u00f3re potrafi\u0105 rozwi\u0105zywa\u0107 dany problem, na przyk\u0142ad klasyfikowa\u0107 cyfry lub rozpoznawa\u0107 czy dany e-mail jest spamem.  Stworzony model (na podstawie zbioru danych, np. e-maili sprzed paru lat) potem jest testowany na nowych przyk\u0142adach (nowych e-mailach).\n",
      "\n",
      "Praktyczne systemy machine learningu dzia\u0142aj\u0105 wsz\u0119dzie. Przyk\u0142ady to Amazon, Google Translate, Filmweb, rozpoznawanie g\u0142osu w Androidzie itp.\n",
      "\n",
      "Jak wspomina\u0142em celem warsztat\u00f3w nie jest nauka machine learningu samego w sobie, \n",
      "tylko raczej wykorzystanie go do rozwi\u0105zania konkretnego problemu. Pod koniec zamieszcz\u0119 dobre \u017ar\u00f3d\u0142a do samodzielnej nauki.\n",
      "\n",
      "<img src=\"figures/ml-chart-simple.jpg\">\n",
      "\n",
      "\n",
      "** Skupmy si\u0119 na problemie klasyfikacji. Chcemy nauczy\u0107 algorytm kt\u00f3ry przydzieli ka\u017cdemu przyk\u0142adowi (obrazek, zdanie, itp.) jak\u0105\u015b warto\u015b\u0107 na podstawie jaki\u015b danych. ** Przyk\u0142adowo:\n",
      "\n",
      "* Jaka to cyfra:\n",
      "    * dane: obrazek cyfry\n",
      "    * mo\u017cliwe klasy: 0,1,2,3,4,5,6,7,8,9\n",
      "* Czy na obrazku znajduje si\u0119 motor? (mo\u017cliwe klasy/warto\u015bci: 0/1)\n",
      "* Czy jutro b\u0119dzie pada\u0142o (mo\u017cliwe klasy: 0/1).\n",
      "    * dane: wiatr, temperatura i opady sprzed 10 dni\n",
      "\n",
      "<img src=\"figures/2d_classification.jpg\">\n",
      "\n",
      "## Reprezentacja danych - kwiatek w komputerze?\n",
      "\n",
      "Iris to znany zbi\u00f3r danych, w kt\u00f3rych przyk\u0142adami s\u0105 r\u00f3\u017cne gatunki irysa (kwiatek!), kt\u00f3rym staramy si\u0119 przyporz\u0105dkowa\u0107 gatunek (jeden z trzech).\n",
      "\n",
      "Musimy jako\u015b ten kwiatek zareprezentowa\u0107 w komputerze. W tym celu zwykle opisujemy ka\u017cdy przyk\u0142ad wektorem liczb (numpy!), np. mo\u017cemy zmierzy\u0107 wielko\u015b\u0107 p\u0142atk\u00f3w.\n",
      "\n",
      "Pakiet scikit-learn (o kt\u00f3rym b\u0119dzie wi\u0119cej!) ma wbudowany zbi\u00f3r Iris.\n",
      "\n",
      "Ka\u017cdy kwiatek jest opisany jako wektor 4 liczb opisuj\u0105cych wymiary kwiatka\n",
      "\n",
      "1. D\u0142ugo\u015b\u0107 p\u0142atka w cm\n",
      "2. Szerokos\u0107 p\u0142atka w cm\n",
      "3. D\u0142ugo\u015b\u0107 dzia\u0142ki kielicha (??) w cm\n",
      "4. Szeroko\u015b\u0107 dzia\u0142ki kielicha (??) w cm\n",
      "\n",
      "Staramy si\u0119 przewidzie\u0107 gatunek, czyli jeden z :\n",
      "\n",
      "1. Iris Setosa\n",
      "2. Iris Versicolour\n",
      "3. Iris Virginica"
     ]
    },
    {
     "cell_type": "markdown",
     "metadata": {},
     "source": [
      "Wi\u0119kszo\u015b\u0107 danych w scikit-learn reprezentowanych jest jako macierz ilo\u015b\u0107 przyk\u0142ad\u00f3w x ilo\u015b\u0107 cech, \n",
      "czyli ka\u017cdy wiersz to jeden przyk\u0142ad"
     ]
    },
    {
     "cell_type": "code",
     "collapsed": false,
     "input": [
      "from sklearn.datasets import load_iris\n",
      "iris = load_iris()"
     ],
     "language": "python",
     "metadata": {},
     "outputs": []
    },
    {
     "cell_type": "code",
     "collapsed": false,
     "input": [
      "# Za\u0142adowany obiekt jest s\u0142ownikiem\n",
      "iris.keys()"
     ],
     "language": "python",
     "metadata": {},
     "outputs": []
    },
    {
     "cell_type": "code",
     "collapsed": false,
     "input": [
      "# Nawet ma \u0142adny opis ocb.\n",
      "print iris[\"DESCR\"] "
     ],
     "language": "python",
     "metadata": {},
     "outputs": []
    },
    {
     "cell_type": "markdown",
     "metadata": {},
     "source": [
      "## Zbiory danych to macierze numpy !\n",
      "\n",
      "Macierz numpy przechowuje sw\u00f3j wymiar w zmiennej *shape*."
     ]
    },
    {
     "cell_type": "code",
     "collapsed": false,
     "input": [
      "n_samples, n_features = iris.data.shape\n",
      "print \"Macierz ma wymiar: \", iris.data.shape\n",
      "print \"Ilo\u015b\u0107 przyk\u0142ad\u00f3w: \", n_samples\n",
      "print \"Ka\u017cdy przyk\u0142ad ma \", n_features, \" cech\"\n",
      "print \"Pierwszy przyk\u0142ad: \", iris.data[0]"
     ],
     "language": "python",
     "metadata": {},
     "outputs": []
    },
    {
     "cell_type": "markdown",
     "metadata": {},
     "source": [
      "### Cwiczenie 2: \n",
      "    a) Jaka jest \u015brednia d\u0142ugo\u015b\u0107 p\u0142atka w zbiorze danych? (pierwsza cecha przyk\u0142adu, podpowied\u017a: macierz przyk\u0142ad\u00f3w jest w iris.data). \n",
      "    b) Narysuj histogram d\u0142ugo\u015bci p\u0142atka"
     ]
    },
    {
     "cell_type": "code",
     "collapsed": false,
     "input": [
      "# Tutaj kod"
     ],
     "language": "python",
     "metadata": {},
     "outputs": []
    },
    {
     "cell_type": "code",
     "collapsed": false,
     "input": [
      "%matplotlib inline\n",
      "from matplotlib import pyplot as plt\n",
      "\n",
      "# Mo\u017cemy sobie narysowa\u0107 zbi\u00f3r danych ale musimy wziac 2 wymiary aby rysowa\u0107 w 2 wymiarach :)\n",
      "x_index = 0\n",
      "y_index = 1\n",
      "\n",
      "plt.scatter(iris.data[:, x_index], iris.data[:, y_index], c=iris.target)\n",
      "plt.xlabel(iris.feature_names[x_index])\n",
      "plt.ylabel(iris.feature_names[y_index])"
     ],
     "language": "python",
     "metadata": {},
     "outputs": []
    },
    {
     "cell_type": "markdown",
     "metadata": {},
     "source": [
      "### \u0106wiczenie 3: \n",
      "    a) We wcze\u015bniejszym przyk\u0142adzie narysowa\u0142em wykres na podstawie 1 i 2 cechy (2 z 4 cech). Prosz\u0119 sprawdzi\u0107 czy jaka\u015b inna kombinacja cech poprawia separowalno\u015b\u0107 przyk\u0142ad\u00f3w (\u0142atwiej je oddzieli\u0107 kresk\u0105)"
     ]
    },
    {
     "cell_type": "markdown",
     "metadata": {},
     "source": []
    }
   ],
   "metadata": {}
  }
 ]
}
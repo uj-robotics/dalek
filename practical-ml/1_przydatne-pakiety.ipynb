{
 "metadata": {
  "name": "",
  "signature": "sha256:a4393a613146539a373860fd2c1baf5a775dd5dcbbb5fded9926ee2df87d8e12"
 },
 "nbformat": 3,
 "nbformat_minor": 0,
 "worksheets": [
  {
   "cells": [
    {
     "cell_type": "markdown",
     "metadata": {},
     "source": [
      "# Praktyczny Machine Learning w Pythonie\n",
      "<br>\n",
      "<img src=\"figures/python-comic-2.png\">\n",
      "\n",
      "## Przydatne pakiety\n",
      "\n",
      "Python to j\u0119zyk wysokiego poziomu z ogromn\u0105 ilo\u015bci\u0105 pakiet\u00f3w. \n",
      "\n",
      "Na tych warsztatach skupimy si\u0119 na tym jak w praktyczny spos\u00f3b wykorzysta\u0107 pakiet scikit-learn do rozwi\u0105zywania problem\u00f3w machine learningowych, kt\u00f3re mog\u0105 si\u0119 pojawi\u0107 przy okazji inych projekt\u00f3w. Scikit-learn jest u\u017cywany w takich firmach jak Microsoft, Evernote czy Spotify. Zawdzi\u0119cza to \u015bwietnemu API, dobrej wydajno\u015bci i bardzo aktywnej spo\u0142eczno\u015bci.\n",
      "\n",
      "**Cel**: zapoznanie z pakietami scikit-learn, numpy, matplotlib z zastosowaniem do rozpoznawania cyfr. Konkurs pod koniec: rozpoznawanie twarzy polityk\u00f3w :)\n",
      "\n",
      "Uwaga: nie ucz\u0119 pythona, ale mam nadziej\u0119, \u017ce sk\u0142adnia jest intuicyjna\n",
      "\n",
      "W tej cz\u0119\u015bci poznamy przydatne pakiety i narz\u0119dzia, kt\u00f3re obecnie stanowi\u0105 podstaw\u0119 machine learningu w Pythonie:  IPython Notebook, numpy oraz matplolib.\n",
      "\n",
      "Pakiet\u00f3w jest duzo wi\u0119cej: Scipy, Pandas, Sympy, PyTables, Cython, Blaze, NLTK i inne. Wi\u0119kszo\u015b\u0107 z nich jest dost\u0119pna w Anacondzie."
     ]
    },
    {
     "cell_type": "markdown",
     "metadata": {},
     "source": [
      "## 1. IPython Notebook\n",
      "\n",
      "* \"Mathematicowy\" notebook - mo\u017cliwo\u015b\u0107 ewaluacji kom\u00f3rek, podpowiadanie sk\u0142adni (tab) i inne\n",
      "* W\u0142a\u015bnie go u\u017cywamy :)\n",
      "* Du\u017co magicznych rzeczy (wy\u015bwietlanie wykres\u00f3w, r\u00f3wnoleg\u0142e obliczenia)\n",
      "* Bardzo wygodne do zdalnego odpalania kodu na swoim serwerze\n",
      "* ctrl + enter - odpal kod w kom\u00f3rce\n",
      "* ctrl + m + b - wstaw kom\u00f3rke poni\u017cej\n",
      "* Inne przydatne skr\u00f3ty pod ctrl + m + h.\n",
      "* Alternatyw\u0105 jest collaboratory (nastawiony na jednoczesn\u0105 prac\u0119 nad jednym notebooiem)"
     ]
    },
    {
     "cell_type": "markdown",
     "metadata": {},
     "source": [
      "## 2. Numpy\n",
      "* Wygodne operacje na macierzach, wektorach itp.\n",
      "* Podstawa praktycznie wszystkich pakiet\u00f3w machine learning\n",
      "* Pod spodem wydajny kod C, BLAS (mo\u017cna podpi\u0105\u0107 np. szybszy OpenBLAS). \n",
      "\n",
      "Zamiast teorii spr\u00f3bujmy zrobi\u0107 pare rzeczy w numpy"
     ]
    },
    {
     "cell_type": "code",
     "collapsed": false,
     "input": [
      "import numpy as np"
     ],
     "language": "python",
     "metadata": {},
     "outputs": []
    },
    {
     "cell_type": "code",
     "collapsed": false,
     "input": [
      "a = np.array([1, 2, 3, 4])\n",
      "print \"a: \", a\n",
      "print \"Pierwszy element: \", a[0]\n",
      "print \"Drugi element!: \", a[1]\n",
      "print \"a+1:\", a + 1\n",
      "print \"2*a:\", 2*a\n",
      "b = np.array([1, 2, 3, 4])\n",
      "print \"b: \", b\n",
      "print \"Iloczyn skalarny <a,b>: \", np.inner(a,b) # Iloczyn skalarny"
     ],
     "language": "python",
     "metadata": {},
     "outputs": []
    },
    {
     "cell_type": "markdown",
     "metadata": {},
     "source": [
      "### Uwaga! Mno\u017cenie macierzy to nie jest *, ale np.dot() !"
     ]
    },
    {
     "cell_type": "code",
     "collapsed": false,
     "input": [
      "a = np.eye(3) # Macierz identyczno\u015bci (jedynki na diagonali) 3x3\n",
      "b = np.random.uniform(size=(3,3)) # Losowa macierz 3x3\n",
      "print \"a = \", a\n",
      "print \"b = \", b\n",
      "print a*b # Mnozenie kazdy element razy kazdy\n",
      "print np.dot(a,b) # Mnozenie macierzowe "
     ],
     "language": "python",
     "metadata": {},
     "outputs": []
    },
    {
     "cell_type": "code",
     "collapsed": false,
     "input": [
      "# Mo\u017cemy wzi\u0105\u0107 cz\u0119\u015b\u0107 wektora i wykona\u0107 na nim jak\u0105\u015b operacj\u0119\n",
      "a = np.array([1,2,3,4,5])\n",
      "print \"Suma elementow od 1 do 3 w\u0142\u0105cznie: \", a[1:4].sum()\n",
      "# Jest bardzo du\u017co r\u00f3\u017cnych operacji. Mo\u017cna zobaczy\u0107 przez wpisanie \"a.\" i tab (autocompletion)."
     ],
     "language": "python",
     "metadata": {},
     "outputs": []
    },
    {
     "cell_type": "code",
     "collapsed": false,
     "input": [
      "# Oczywi\u015bcie obiekty numpy s\u0105 iterowalne\n",
      "for x in a:\n",
      "    print x"
     ],
     "language": "python",
     "metadata": {},
     "outputs": []
    },
    {
     "cell_type": "markdown",
     "metadata": {},
     "source": [
      "### \u0106wiczenie 1: \n",
      "    a) znajd\u017a najwi\u0119ksz\u0105 i najmniejsz\u0105 warto\u015b\u0107 w wektorze c. \n",
      "    b) stworzy\u0107 analogicznie wektor d i policzy\u0107 iloczyn skalarny. Ile wynosi jak zwi\u0119kszymy ilo\u015b\u0107 wymiar\u00f3w?\n",
      "   Podpowied\u017a: mo\u017cna u\u017cy\u0107 p\u0119tli for lub operacji na c (poszuka\u0107 tabem po wpisaniu \"c.\")"
     ]
    },
    {
     "cell_type": "code",
     "collapsed": false,
     "input": [
      "c = np.random.uniform(size=(5,)) # wektor 5 pseudolosowych liczb"
     ],
     "language": "python",
     "metadata": {},
     "outputs": []
    },
    {
     "cell_type": "markdown",
     "metadata": {},
     "source": [
      "## 3. Matplotlib\n",
      "\n",
      "Podstawowy pakiet do rysowania. Istnieje du\u017co nak\u0142adek na matplotlib, najciekawsza to prawdopodobnie seaborn"
     ]
    },
    {
     "cell_type": "code",
     "collapsed": false,
     "input": [
      "import matplotlib.pylab as plt # Import podpakietu jako plt\n",
      "# Magia IPython Notebook :) Pokazuje wykresy w konsoli\n",
      "%matplotlib inline "
     ],
     "language": "python",
     "metadata": {},
     "outputs": []
    },
    {
     "cell_type": "code",
     "collapsed": false,
     "input": [
      "x = np.linspace(0,1,20) # Tworzy wektor z 20 wartosciami w r\u00f3wnych odst\u0119pach od 0 do 1\n",
      "print x\n",
      "_ = plt.plot(x, 'o-') # matplotlib na\u015bladuje sk\u0142adnie matlaba"
     ],
     "language": "python",
     "metadata": {},
     "outputs": []
    },
    {
     "cell_type": "code",
     "collapsed": false,
     "input": [
      "plt.plot(x, x, 'o-', label='liniowa')\n",
      "plt.plot(x, x ** 2, 'x-', label='kwadratowa') # Operacja na wektorze numpy ! x ** 2 podnosi ka\u017cdy element do kwadratu\n",
      "\n",
      "plt.legend(loc='best')\n",
      "_ = plt.title('Funkcja liniowa vs funkcja kwadratowa')"
     ],
     "language": "python",
     "metadata": {},
     "outputs": []
    },
    {
     "cell_type": "code",
     "collapsed": false,
     "input": [
      "# S\u0105 inne wykresy, np histogram\n",
      "samples = np.random.normal(loc=1.0, scale=0.5, size=1000) # 1000 liczb z rozk\u0142adu normalnego\n",
      "print \"Pierwsze 10 z wylosowanej pr\u00f3by: \", samples[0:10] # 10 pierwszych\n",
      "print \"Rozmiar pr\u00f3by: \", samples.shape # rozmiar\n",
      "_ = plt.hist(samples, bins=100)"
     ],
     "language": "python",
     "metadata": {},
     "outputs": []
    },
    {
     "cell_type": "code",
     "collapsed": false,
     "input": [
      "# Inny przyk\u0142ad bez t\u0142umaczenia :)\n",
      "samples_1 = np.random.normal(loc=1, scale=.5, size=10000) # Rozklad Gaussa\n",
      "samples_2 = np.random.standard_t(df=10, size=10000) # Rozklad studenta t (taki jakby Gauss :))\n",
      "bins = np.linspace(-3, 3, 50)\n",
      "_ = plt.hist(samples_1, bins=bins, alpha=0.5, label='samples 1')\n",
      "_ = plt.hist(samples_2, bins=bins, alpha=0.5, label='samples 2')\n",
      "_ = plt.legend(loc='upper left')"
     ],
     "language": "python",
     "metadata": {},
     "outputs": []
    }
   ],
   "metadata": {}
  }
 ]
}
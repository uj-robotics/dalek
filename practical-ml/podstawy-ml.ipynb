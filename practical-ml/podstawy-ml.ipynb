{
 "metadata": {
  "name": "",
  "signature": "sha256:ae7fcd9480dc6c3dc0b0f7a7ec9f2f563f641cdaba3be09fa49a902b6e202b97"
 },
 "nbformat": 3,
 "nbformat_minor": 0,
 "worksheets": [
  {
   "cells": [
    {
     "cell_type": "markdown",
     "metadata": {},
     "source": [
      "# Praktyczny Machine Learning w Pythonie\n",
      "<br>\n",
      "<img src=\"figures/pie.gif\">\n",
      "\n",
      "## Podstawy machine learningu i scikit-learn\n",
      "\n",
      "Na tych warsztatach skupimy si\u0119 na modelach liniowych. Modele liniowe odzielaj\u0105 obiekty r\u00f3\u017cnych klas za pomoc\u0105 linii prostej. Poni\u017cszy rysunek powinien to wyja\u015bni\u0107:\n",
      "\n"
     ]
    }
   ],
   "metadata": {}
  }
 ]
}
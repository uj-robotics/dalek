{
 "metadata": {
  "name": "",
  "signature": "sha256:ee97d3e2b3a0851d9b839bc00ee3ca9428c723fc0b74865708502c3f507e4e95"
 },
 "nbformat": 3,
 "nbformat_minor": 0,
 "worksheets": [
  {
   "cells": [
    {
     "cell_type": "markdown",
     "metadata": {},
     "source": [
      "# Praktyczny Machine Learning w Pythonie\n",
      "<br>\n",
      "<img src=\"figures/pie.gif\">\n",
      "\n",
      "## Podstawy machine learningu i scikit-learn\n",
      "\n",
      "Na tych warsztatach skupimy si\u0119 na modelach liniowych. Modele liniowe odzielaj\u0105 obiekty r\u00f3\u017cnych klas za pomoc\u0105 linii prostej. Poni\u017cszy rysunek powinien to wyja\u015bni\u0107:\n",
      "\n",
      "<img src=\"figures/twofeature_b.png\">\n",
      "\n",
      "K\u00f3\u0142kami s\u0105 r\u00f3\u017cne obiekty (konkretne irysy, odr\u0119cznie napisany cyfry, itp.)\n",
      "Na osi X i Y mamy cechy obiektu (np. d\u0142ugo\u015b\u0107 i szeroko\u015b\u0107 p\u0142atk\u00f3w), a linia odziela przyk\u0142ady r\u00f3\u017cnych klas. Chc\u0105c sklasyfikowa\u0107 **nowy** przyk\u0142ad patrzymy po kt\u00f3rej znajduje si\u0119 stronie linii. Proste! A podstawa ogromnej cz\u0119\u015bci machine learningu. Jak mamy dobre cechy, to cz\u0119sto wystarczy prosta kreska. Dlatego zwykle wi\u0119kszo\u015b\u0107 czasu w machine learningu jest po\u015bwi\u0119cane nie znajdowanie najlepszego modelu, a zbieranie i czyszczenie danych.\n",
      "\n",
      "## 2. scikit-learn\n",
      "\n",
      "Scikit-learn to bardzo popularny pakiet udost\u0119pniaj\u0105cy r\u00f3\u017cne algorytmy uczenia maszynowego. U\u017cywany jest w wielu firmach (w tym Microsoft, Evernote, ...). Skupimy si\u0119 na modelach liniowych. Wi\u0119kszo\u015b\u0107 obiekt\u00f3w w scikit-learn implementuje interfejs **Estimator**. Wed\u0142ug tej terminologii \"dopasowywujemy\" si\u0119 do dancyh, aby potem \"przewidzie\u0107\" klas\u0119 obiektu.\n",
      "\n",
      "```{python}\n",
      "class Estimator(object):\n",
      "  \n",
      "    def fit(self, X, y=None):\n",
      "        \"\"\"Fits estimator to data. \"\"\"\n",
      "        # set state of ``self``\n",
      "        return self\n",
      "            \n",
      "    def predict(self, X):\n",
      "        \"\"\"Predict response of ``X``. \"\"\"\n",
      "        # compute predictions ``pred``\n",
      "        return pred\n",
      "```\n",
      "\n",
      "**Ka\u017cdy model to Estimator**, a jest ich bardzo du\u017co. Dodatkowo (do czego dojdziemy) r\u00f3\u017cne preprocessingi na danych (np skalowanie) te\u017c implementuj\u0105 ten interfejs co bardzo upraszcza prac\u0119 z pakietem."
     ]
    },
    {
     "cell_type": "markdown",
     "metadata": {},
     "source": [
      "## 1. Tworzymy nasz model liniowy (prost\u0105 kresk\u0119) odr\u00f3\u017cniaj\u0105cy gatunek irys\u00f3w Setosa od innych!"
     ]
    },
    {
     "cell_type": "code",
     "collapsed": false,
     "input": [
      "# Standardowe importowanie pakiet\u00f3w\n",
      "import numpy as np\n",
      "import matplotlib.pylab as plt\n",
      "%matplotlib inline\n",
      "from sklearn.datasets import load_iris"
     ],
     "language": "python",
     "metadata": {},
     "outputs": [],
     "prompt_number": 9
    },
    {
     "cell_type": "code",
     "collapsed": false,
     "input": [
      "# Za\u0142adujmy jeszcze raz dane iris\n",
      "iris = load_iris()\n",
      "X,Y = iris.data, iris.target\n",
      "Y = Y==0 # Troche magii \u017ceby przewidywa\u0142 tylko Iris Setosa albo \"nie Iris Setosa\""
     ],
     "language": "python",
     "metadata": {},
     "outputs": [],
     "prompt_number": 42
    },
    {
     "cell_type": "code",
     "collapsed": false,
     "input": [
      "iris.target_names # Setosa jest pierwsza (indeks 0)"
     ],
     "language": "python",
     "metadata": {},
     "outputs": [
      {
       "metadata": {},
       "output_type": "pyout",
       "prompt_number": 43,
       "text": [
        "array(['setosa', 'versicolor', 'virginica'], \n",
        "      dtype='|S10')"
       ]
      }
     ],
     "prompt_number": 43
    },
    {
     "cell_type": "code",
     "collapsed": false,
     "input": [
      "# Ok! Dopasowywujemy model. \n",
      "from sklearn.linear_model import LogisticRegression\n",
      "# Regresja liniowa. Jeden z wielu modeli, kt\u00f3rych ko\u0144cowym wynikiem jest linia prosta :)\n",
      "pierwszy_model = LogisticRegression(fit_intercept=False) \n",
      "pierwszy_model.fit(X, Y) # Wspominany interfejs! Po zrobieniu fit mamy lini\u0119 prost\u0105"
     ],
     "language": "python",
     "metadata": {},
     "outputs": [
      {
       "metadata": {},
       "output_type": "pyout",
       "prompt_number": 44,
       "text": [
        "LogisticRegression(C=1.0, class_weight=None, dual=False, fit_intercept=False,\n",
        "          intercept_scaling=1, penalty='l2', random_state=None, tol=0.0001)"
       ]
      }
     ],
     "prompt_number": 44
    },
    {
     "cell_type": "code",
     "collapsed": false,
     "input": [
      "print pierwszy_model.coef_[0] # Spr\u00f3bujcie sami \"stabowa\u0107\" co ma model w \u015brodku"
     ],
     "language": "python",
     "metadata": {},
     "outputs": [
      {
       "output_type": "stream",
       "stream": "stdout",
       "text": [
        "[ 0.45115725  1.48598828 -2.26260736 -1.03264391]\n"
       ]
      }
     ],
     "prompt_number": 45
    },
    {
     "cell_type": "markdown",
     "metadata": {},
     "source": [
      "## Model machine learningowy (*pierwszy_model* w naszym kodzie) mo\u017cna stre\u015bci\u0107 jako:\n",
      "\n",
      "\"Je\u015bli -0.109 \\* **d\u0142ugo\u015b\u0107_p\u0142atka** + 0.45115725 \\* **szeroko\u015b\u0107_p\u0142atka** -2.26260736 \\* **d\u0142ugo\u015b\u0107_kielicha** + 1.03264391 \\* **szeroko\u015b\u0107_kielicha** >= 0 to jest to kwiatek gatunku *Iris Setosa*\"\n",
      "\n",
      "Nie uwierzycie ile modeli jest tak prostych :)"
     ]
    },
    {
     "cell_type": "code",
     "collapsed": false,
     "input": [
      "# Mo\u017cna zapyta\u0107 (predict w Estimator)\n",
      "pierwszy_model.predict([-0.109, 0.451, -2.26, 1.03]) # Kwiatek gatunku Iris Setosa! "
     ],
     "language": "python",
     "metadata": {},
     "outputs": [
      {
       "metadata": {},
       "output_type": "pyout",
       "prompt_number": 48,
       "text": [
        "array([ True], dtype=bool)"
       ]
      }
     ],
     "prompt_number": 48
    },
    {
     "cell_type": "code",
     "collapsed": false,
     "input": [
      "# Narysujmy jak przewiduje gatunek w zale\u017cno\u015bci od "
     ],
     "language": "python",
     "metadata": {},
     "outputs": []
    }
   ],
   "metadata": {}
  }
 ]
}
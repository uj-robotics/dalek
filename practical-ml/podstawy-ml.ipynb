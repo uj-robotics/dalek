{
 "metadata": {
  "name": "",
  "signature": "sha256:0d33c8935e742860e59476f801e640318d6d0dd2f335b7e3a6e6add025bfdaf9"
 },
 "nbformat": 3,
 "nbformat_minor": 0,
 "worksheets": [
  {
   "cells": [
    {
     "cell_type": "markdown",
     "metadata": {},
     "source": [
      "# Praktyczny Machine Learning w Pythonie\n",
      "<br>\n",
      "<img src=\"boyfriend.png\">\n",
      "\n",
      "## Podstawy machine learningu\n",
      "\n",
      "Jak wspomina\u0142em celem warsztat\u00f3w nie jest nauka machine learningu samego w sobie, \n",
      "tylko raczej wykorzystanie go do rozwi\u0105zania konkretnego problemu. Pod koniec zamieszcz\u0119 dobre \u017ar\u00f3d\u0142a do samodzielnej nauki.\n",
      "\n",
      "Machine learning zajmuje si\u0119 tworzeniem modeli na podstawie danych, kt\u00f3re potrafi\u0105 rozwi\u0105zywa\u0107 dany problem, na przyk\u0142ad klasyfikowa\u0107 cyfry lub rozpoznawa\u0107 czy dany mail jest spamem. Dajemy dane, uczymy model. Model \"dostaje\" dane, kt\u00f3re wykorzystuje do nauki. Potem \n",
      "\n",
      "<img src=\"ml-chart-simple.jpg\">\n",
      "\n",
      "### 1. Reprezentacja danych"
     ]
    },
    {
     "cell_type": "code",
     "collapsed": false,
     "input": [],
     "language": "python",
     "metadata": {},
     "outputs": []
    }
   ],
   "metadata": {}
  }
 ]
}